{
 "cells": [
  {
   "cell_type": "markdown",
   "id": "critical-polish",
   "metadata": {},
   "source": [
    "google-auth\n",
    "google-auth-oauthlib\n",
    "google-pasta\n",
    "gast"
   ]
  },
  {
   "cell_type": "markdown",
   "id": "suspended-capitol",
   "metadata": {},
   "source": [
    "# Predicting Likelihood of Having Heart Disease\n",
    "# Gideon Oyedokun"
   ]
  },
  {
   "cell_type": "code",
   "execution_count": 1,
   "id": "retired-hospital",
   "metadata": {},
   "outputs": [],
   "source": [
    "import pandas as pd\n",
    "import numpy as np\n",
    "import matplotlib.pyplot as plt\n",
    "import ModelSelection\n",
    "import seaborn as sns\n",
    "import pickle\n",
    "\n",
    "# Sikit Imports\n",
    "from sklearn.model_selection import train_test_split\n",
    "from sklearn.neighbors import KNeighborsClassifier\n",
    "from sklearn.preprocessing import PowerTransformer\n",
    "from sklearn.preprocessing import StandardScaler\n",
    "from sklearn.pipeline import Pipeline\n",
    "from sklearn.metrics import roc_auc_score,balanced_accuracy_score\n",
    "from sklearn.metrics import confusion_matrix\n",
    "from sklearn.model_selection import GridSearchCV\n",
    "\n",
    "%matplotlib inline"
   ]
  },
  {
   "cell_type": "code",
   "execution_count": 2,
   "id": "fifty-reality",
   "metadata": {},
   "outputs": [],
   "source": [
    "db = pd.read_csv(\"heart_statlog_cleveland_hungary_final.csv\")"
   ]
  },
  {
   "cell_type": "markdown",
   "id": "floppy-latex",
   "metadata": {},
   "source": [
    "## Performing Simple EDA on the dataset"
   ]
  },
  {
   "cell_type": "code",
   "execution_count": 3,
   "id": "copyrighted-branch",
   "metadata": {},
   "outputs": [
    {
     "data": {
      "text/html": [
       "<div>\n",
       "<style scoped>\n",
       "    .dataframe tbody tr th:only-of-type {\n",
       "        vertical-align: middle;\n",
       "    }\n",
       "\n",
       "    .dataframe tbody tr th {\n",
       "        vertical-align: top;\n",
       "    }\n",
       "\n",
       "    .dataframe thead th {\n",
       "        text-align: right;\n",
       "    }\n",
       "</style>\n",
       "<table border=\"1\" class=\"dataframe\">\n",
       "  <thead>\n",
       "    <tr style=\"text-align: right;\">\n",
       "      <th></th>\n",
       "      <th>age</th>\n",
       "      <th>sex</th>\n",
       "      <th>chest pain type</th>\n",
       "      <th>resting bp s</th>\n",
       "      <th>cholesterol</th>\n",
       "      <th>fasting blood sugar</th>\n",
       "      <th>resting ecg</th>\n",
       "      <th>max heart rate</th>\n",
       "      <th>exercise angina</th>\n",
       "      <th>oldpeak</th>\n",
       "      <th>ST slope</th>\n",
       "      <th>target</th>\n",
       "    </tr>\n",
       "  </thead>\n",
       "  <tbody>\n",
       "    <tr>\n",
       "      <th>0</th>\n",
       "      <td>40</td>\n",
       "      <td>1</td>\n",
       "      <td>2</td>\n",
       "      <td>140</td>\n",
       "      <td>289</td>\n",
       "      <td>0</td>\n",
       "      <td>0</td>\n",
       "      <td>172</td>\n",
       "      <td>0</td>\n",
       "      <td>0.0</td>\n",
       "      <td>1</td>\n",
       "      <td>0</td>\n",
       "    </tr>\n",
       "    <tr>\n",
       "      <th>1</th>\n",
       "      <td>49</td>\n",
       "      <td>0</td>\n",
       "      <td>3</td>\n",
       "      <td>160</td>\n",
       "      <td>180</td>\n",
       "      <td>0</td>\n",
       "      <td>0</td>\n",
       "      <td>156</td>\n",
       "      <td>0</td>\n",
       "      <td>1.0</td>\n",
       "      <td>2</td>\n",
       "      <td>1</td>\n",
       "    </tr>\n",
       "    <tr>\n",
       "      <th>2</th>\n",
       "      <td>37</td>\n",
       "      <td>1</td>\n",
       "      <td>2</td>\n",
       "      <td>130</td>\n",
       "      <td>283</td>\n",
       "      <td>0</td>\n",
       "      <td>1</td>\n",
       "      <td>98</td>\n",
       "      <td>0</td>\n",
       "      <td>0.0</td>\n",
       "      <td>1</td>\n",
       "      <td>0</td>\n",
       "    </tr>\n",
       "    <tr>\n",
       "      <th>3</th>\n",
       "      <td>48</td>\n",
       "      <td>0</td>\n",
       "      <td>4</td>\n",
       "      <td>138</td>\n",
       "      <td>214</td>\n",
       "      <td>0</td>\n",
       "      <td>0</td>\n",
       "      <td>108</td>\n",
       "      <td>1</td>\n",
       "      <td>1.5</td>\n",
       "      <td>2</td>\n",
       "      <td>1</td>\n",
       "    </tr>\n",
       "    <tr>\n",
       "      <th>4</th>\n",
       "      <td>54</td>\n",
       "      <td>1</td>\n",
       "      <td>3</td>\n",
       "      <td>150</td>\n",
       "      <td>195</td>\n",
       "      <td>0</td>\n",
       "      <td>0</td>\n",
       "      <td>122</td>\n",
       "      <td>0</td>\n",
       "      <td>0.0</td>\n",
       "      <td>1</td>\n",
       "      <td>0</td>\n",
       "    </tr>\n",
       "  </tbody>\n",
       "</table>\n",
       "</div>"
      ],
      "text/plain": [
       "   age  sex  chest pain type  resting bp s  cholesterol  fasting blood sugar  \\\n",
       "0   40    1                2           140          289                    0   \n",
       "1   49    0                3           160          180                    0   \n",
       "2   37    1                2           130          283                    0   \n",
       "3   48    0                4           138          214                    0   \n",
       "4   54    1                3           150          195                    0   \n",
       "\n",
       "   resting ecg  max heart rate  exercise angina  oldpeak  ST slope  target  \n",
       "0            0             172                0      0.0         1       0  \n",
       "1            0             156                0      1.0         2       1  \n",
       "2            1              98                0      0.0         1       0  \n",
       "3            0             108                1      1.5         2       1  \n",
       "4            0             122                0      0.0         1       0  "
      ]
     },
     "execution_count": 3,
     "metadata": {},
     "output_type": "execute_result"
    }
   ],
   "source": [
    "# Checking the first five rows of the dataset\n",
    "db.head()"
   ]
  },
  {
   "cell_type": "code",
   "execution_count": 4,
   "id": "another-landing",
   "metadata": {},
   "outputs": [
    {
     "data": {
      "text/html": [
       "<div>\n",
       "<style scoped>\n",
       "    .dataframe tbody tr th:only-of-type {\n",
       "        vertical-align: middle;\n",
       "    }\n",
       "\n",
       "    .dataframe tbody tr th {\n",
       "        vertical-align: top;\n",
       "    }\n",
       "\n",
       "    .dataframe thead th {\n",
       "        text-align: right;\n",
       "    }\n",
       "</style>\n",
       "<table border=\"1\" class=\"dataframe\">\n",
       "  <thead>\n",
       "    <tr style=\"text-align: right;\">\n",
       "      <th></th>\n",
       "      <th>age</th>\n",
       "      <th>sex</th>\n",
       "      <th>chest pain type</th>\n",
       "      <th>resting bp s</th>\n",
       "      <th>cholesterol</th>\n",
       "      <th>fasting blood sugar</th>\n",
       "      <th>resting ecg</th>\n",
       "      <th>max heart rate</th>\n",
       "      <th>exercise angina</th>\n",
       "      <th>oldpeak</th>\n",
       "      <th>ST slope</th>\n",
       "      <th>target</th>\n",
       "    </tr>\n",
       "  </thead>\n",
       "  <tbody>\n",
       "    <tr>\n",
       "      <th>1185</th>\n",
       "      <td>45</td>\n",
       "      <td>1</td>\n",
       "      <td>1</td>\n",
       "      <td>110</td>\n",
       "      <td>264</td>\n",
       "      <td>0</td>\n",
       "      <td>0</td>\n",
       "      <td>132</td>\n",
       "      <td>0</td>\n",
       "      <td>1.2</td>\n",
       "      <td>2</td>\n",
       "      <td>1</td>\n",
       "    </tr>\n",
       "    <tr>\n",
       "      <th>1186</th>\n",
       "      <td>68</td>\n",
       "      <td>1</td>\n",
       "      <td>4</td>\n",
       "      <td>144</td>\n",
       "      <td>193</td>\n",
       "      <td>1</td>\n",
       "      <td>0</td>\n",
       "      <td>141</td>\n",
       "      <td>0</td>\n",
       "      <td>3.4</td>\n",
       "      <td>2</td>\n",
       "      <td>1</td>\n",
       "    </tr>\n",
       "    <tr>\n",
       "      <th>1187</th>\n",
       "      <td>57</td>\n",
       "      <td>1</td>\n",
       "      <td>4</td>\n",
       "      <td>130</td>\n",
       "      <td>131</td>\n",
       "      <td>0</td>\n",
       "      <td>0</td>\n",
       "      <td>115</td>\n",
       "      <td>1</td>\n",
       "      <td>1.2</td>\n",
       "      <td>2</td>\n",
       "      <td>1</td>\n",
       "    </tr>\n",
       "    <tr>\n",
       "      <th>1188</th>\n",
       "      <td>57</td>\n",
       "      <td>0</td>\n",
       "      <td>2</td>\n",
       "      <td>130</td>\n",
       "      <td>236</td>\n",
       "      <td>0</td>\n",
       "      <td>2</td>\n",
       "      <td>174</td>\n",
       "      <td>0</td>\n",
       "      <td>0.0</td>\n",
       "      <td>2</td>\n",
       "      <td>1</td>\n",
       "    </tr>\n",
       "    <tr>\n",
       "      <th>1189</th>\n",
       "      <td>38</td>\n",
       "      <td>1</td>\n",
       "      <td>3</td>\n",
       "      <td>138</td>\n",
       "      <td>175</td>\n",
       "      <td>0</td>\n",
       "      <td>0</td>\n",
       "      <td>173</td>\n",
       "      <td>0</td>\n",
       "      <td>0.0</td>\n",
       "      <td>1</td>\n",
       "      <td>0</td>\n",
       "    </tr>\n",
       "  </tbody>\n",
       "</table>\n",
       "</div>"
      ],
      "text/plain": [
       "      age  sex  chest pain type  resting bp s  cholesterol  \\\n",
       "1185   45    1                1           110          264   \n",
       "1186   68    1                4           144          193   \n",
       "1187   57    1                4           130          131   \n",
       "1188   57    0                2           130          236   \n",
       "1189   38    1                3           138          175   \n",
       "\n",
       "      fasting blood sugar  resting ecg  max heart rate  exercise angina  \\\n",
       "1185                    0            0             132                0   \n",
       "1186                    1            0             141                0   \n",
       "1187                    0            0             115                1   \n",
       "1188                    0            2             174                0   \n",
       "1189                    0            0             173                0   \n",
       "\n",
       "      oldpeak  ST slope  target  \n",
       "1185      1.2         2       1  \n",
       "1186      3.4         2       1  \n",
       "1187      1.2         2       1  \n",
       "1188      0.0         2       1  \n",
       "1189      0.0         1       0  "
      ]
     },
     "execution_count": 4,
     "metadata": {},
     "output_type": "execute_result"
    }
   ],
   "source": [
    "# Checking the last five rows of the dataset\n",
    "db.tail()"
   ]
  },
  {
   "cell_type": "code",
   "execution_count": 5,
   "id": "virtual-annex",
   "metadata": {},
   "outputs": [
    {
     "data": {
      "text/plain": [
       "(1190, 12)"
      ]
     },
     "execution_count": 5,
     "metadata": {},
     "output_type": "execute_result"
    }
   ],
   "source": [
    "# Checking the shape of the dataset\n",
    "db.shape"
   ]
  },
  {
   "cell_type": "code",
   "execution_count": 6,
   "id": "lightweight-electronics",
   "metadata": {},
   "outputs": [
    {
     "data": {
      "text/plain": [
       "age                     50\n",
       "sex                      2\n",
       "chest pain type          4\n",
       "resting bp s            67\n",
       "cholesterol            222\n",
       "fasting blood sugar      2\n",
       "resting ecg              3\n",
       "max heart rate         119\n",
       "exercise angina          2\n",
       "oldpeak                 53\n",
       "ST slope                 4\n",
       "target                   2\n",
       "dtype: int64"
      ]
     },
     "execution_count": 6,
     "metadata": {},
     "output_type": "execute_result"
    }
   ],
   "source": [
    "# Checking the uniqe values for the dataset columns\n",
    "db.nunique()"
   ]
  },
  {
   "cell_type": "markdown",
   "id": "municipal-inclusion",
   "metadata": {},
   "source": [
    "### Cleaning the data"
   ]
  },
  {
   "cell_type": "code",
   "execution_count": 7,
   "id": "answering-compromise",
   "metadata": {},
   "outputs": [
    {
     "data": {
      "text/plain": [
       "age                    0\n",
       "sex                    0\n",
       "chest pain type        0\n",
       "resting bp s           0\n",
       "cholesterol            0\n",
       "fasting blood sugar    0\n",
       "resting ecg            0\n",
       "max heart rate         0\n",
       "exercise angina        0\n",
       "oldpeak                0\n",
       "ST slope               0\n",
       "target                 0\n",
       "dtype: int64"
      ]
     },
     "execution_count": 7,
     "metadata": {},
     "output_type": "execute_result"
    }
   ],
   "source": [
    "# Checking for the null values\n",
    "db.isnull().sum()"
   ]
  },
  {
   "cell_type": "markdown",
   "id": "antique-calculation",
   "metadata": {},
   "source": [
    "### Removing Duplicates in the dataset"
   ]
  },
  {
   "cell_type": "code",
   "execution_count": 8,
   "id": "angry-recipe",
   "metadata": {
    "scrolled": true
   },
   "outputs": [
    {
     "data": {
      "text/html": [
       "<div>\n",
       "<style scoped>\n",
       "    .dataframe tbody tr th:only-of-type {\n",
       "        vertical-align: middle;\n",
       "    }\n",
       "\n",
       "    .dataframe tbody tr th {\n",
       "        vertical-align: top;\n",
       "    }\n",
       "\n",
       "    .dataframe thead th {\n",
       "        text-align: right;\n",
       "    }\n",
       "</style>\n",
       "<table border=\"1\" class=\"dataframe\">\n",
       "  <thead>\n",
       "    <tr style=\"text-align: right;\">\n",
       "      <th></th>\n",
       "      <th>age</th>\n",
       "      <th>sex</th>\n",
       "      <th>chest pain type</th>\n",
       "      <th>resting bp s</th>\n",
       "      <th>cholesterol</th>\n",
       "      <th>fasting blood sugar</th>\n",
       "      <th>resting ecg</th>\n",
       "      <th>max heart rate</th>\n",
       "      <th>exercise angina</th>\n",
       "      <th>oldpeak</th>\n",
       "      <th>ST slope</th>\n",
       "      <th>target</th>\n",
       "    </tr>\n",
       "  </thead>\n",
       "  <tbody>\n",
       "    <tr>\n",
       "      <th>1185</th>\n",
       "      <td>45</td>\n",
       "      <td>1</td>\n",
       "      <td>1</td>\n",
       "      <td>110</td>\n",
       "      <td>264</td>\n",
       "      <td>0</td>\n",
       "      <td>0</td>\n",
       "      <td>132</td>\n",
       "      <td>0</td>\n",
       "      <td>1.2</td>\n",
       "      <td>2</td>\n",
       "      <td>1</td>\n",
       "    </tr>\n",
       "    <tr>\n",
       "      <th>1186</th>\n",
       "      <td>68</td>\n",
       "      <td>1</td>\n",
       "      <td>4</td>\n",
       "      <td>144</td>\n",
       "      <td>193</td>\n",
       "      <td>1</td>\n",
       "      <td>0</td>\n",
       "      <td>141</td>\n",
       "      <td>0</td>\n",
       "      <td>3.4</td>\n",
       "      <td>2</td>\n",
       "      <td>1</td>\n",
       "    </tr>\n",
       "    <tr>\n",
       "      <th>1187</th>\n",
       "      <td>57</td>\n",
       "      <td>1</td>\n",
       "      <td>4</td>\n",
       "      <td>130</td>\n",
       "      <td>131</td>\n",
       "      <td>0</td>\n",
       "      <td>0</td>\n",
       "      <td>115</td>\n",
       "      <td>1</td>\n",
       "      <td>1.2</td>\n",
       "      <td>2</td>\n",
       "      <td>1</td>\n",
       "    </tr>\n",
       "    <tr>\n",
       "      <th>1188</th>\n",
       "      <td>57</td>\n",
       "      <td>0</td>\n",
       "      <td>2</td>\n",
       "      <td>130</td>\n",
       "      <td>236</td>\n",
       "      <td>0</td>\n",
       "      <td>2</td>\n",
       "      <td>174</td>\n",
       "      <td>0</td>\n",
       "      <td>0.0</td>\n",
       "      <td>2</td>\n",
       "      <td>1</td>\n",
       "    </tr>\n",
       "    <tr>\n",
       "      <th>1189</th>\n",
       "      <td>38</td>\n",
       "      <td>1</td>\n",
       "      <td>3</td>\n",
       "      <td>138</td>\n",
       "      <td>175</td>\n",
       "      <td>0</td>\n",
       "      <td>0</td>\n",
       "      <td>173</td>\n",
       "      <td>0</td>\n",
       "      <td>0.0</td>\n",
       "      <td>1</td>\n",
       "      <td>0</td>\n",
       "    </tr>\n",
       "  </tbody>\n",
       "</table>\n",
       "</div>"
      ],
      "text/plain": [
       "      age  sex  chest pain type  resting bp s  cholesterol  \\\n",
       "1185   45    1                1           110          264   \n",
       "1186   68    1                4           144          193   \n",
       "1187   57    1                4           130          131   \n",
       "1188   57    0                2           130          236   \n",
       "1189   38    1                3           138          175   \n",
       "\n",
       "      fasting blood sugar  resting ecg  max heart rate  exercise angina  \\\n",
       "1185                    0            0             132                0   \n",
       "1186                    1            0             141                0   \n",
       "1187                    0            0             115                1   \n",
       "1188                    0            2             174                0   \n",
       "1189                    0            0             173                0   \n",
       "\n",
       "      oldpeak  ST slope  target  \n",
       "1185      1.2         2       1  \n",
       "1186      3.4         2       1  \n",
       "1187      1.2         2       1  \n",
       "1188      0.0         2       1  \n",
       "1189      0.0         1       0  "
      ]
     },
     "execution_count": 8,
     "metadata": {},
     "output_type": "execute_result"
    }
   ],
   "source": [
    "db.drop_duplicates()\n",
    "db.tail()"
   ]
  },
  {
   "cell_type": "markdown",
   "id": "perceived-typing",
   "metadata": {},
   "source": [
    "### Relationship Analysis"
   ]
  },
  {
   "cell_type": "code",
   "execution_count": 9,
   "id": "numerous-character",
   "metadata": {},
   "outputs": [
    {
     "data": {
      "text/plain": [
       "<AxesSubplot:>"
      ]
     },
     "execution_count": 9,
     "metadata": {},
     "output_type": "execute_result"
    },
    {
     "data": {
      "image/png": "[encoded data removed]",
      "text/plain": [
       "<Figure size 1152x432 with 2 Axes>"
      ]
     },
     "metadata": {
      "needs_background": "light"
     },
     "output_type": "display_data"
    }
   ],
   "source": [
    "corelation = db.corr()\n",
    "plt.figure(figsize=(16, 6))\n",
    "sns.heatmap(corelation, xticklabels=corelation.columns, \n",
    "            yticklabels=corelation.columns, annot=True)"
   ]
  },
  {
   "cell_type": "markdown",
   "id": "floating-preference",
   "metadata": {},
   "source": [
    "Looking closely at the data the variables that are not useful are the ones that are below 0.25 in the corelation level. *[Note: 1 means high corelation and -0.4 mean no statical corelation].* And thoes are :\n",
    "\n",
    "`\n",
    "resting bp s\n",
    "cholesterol\n",
    "fasting blood sugar\n",
    "resting ecg\n",
    "max heart rate\n",
    "`"
   ]
  },
  {
   "cell_type": "markdown",
   "id": "matched-theory",
   "metadata": {},
   "source": [
    "# Getting Useful Vairables"
   ]
  },
  {
   "cell_type": "markdown",
   "id": "framed-yugoslavia",
   "metadata": {},
   "source": [
    ">- age,\n",
    ">- oldpeak,\n",
    ">- chest_pain_type,\n",
    ">- exercise_angina,\n",
    ">- ST_slope,\n",
    ">- sex,\n",
    "\n",
    "##### For Neural Net work\n",
    "\n",
    "<p>\"It is found that feature set consisting of 10 attributes, thal, cp, ca, oldpeak, exang, thalach, slope, age, sex, restecg are recommended as relevant feature set(please refer Table 6-feature consisting of 10 attributes are given in bold) for further research. In our further work, it is proposed to use the recommended feature set to study the impact of big data techniques and technologies in enhancing the accuracy of classifiers\"(Chellammal, 2019). Following the work done by the stidents of Bharathidasan University, I've narrowed down the attributes to the one's listed above in hopes of improving model accuracy while removing any unnessary data.</p>\n",
    "\n",
    "\n",
    "\n",
    "(Chellammal, S., &amp; Sharmila, R. (2019). International Journal of Recent Technology and Engineering (IJRTE). Recommendation of Attributes for Heart Disease Prediction Using Correlation Measure, 8(2S3), 870–875. https://doi.org/10.35940/ijrte.2277-3878 )"
   ]
  },
  {
   "cell_type": "markdown",
   "id": "quiet-mississippi",
   "metadata": {},
   "source": [
    "## Understanding the AGE vairable "
   ]
  },
  {
   "cell_type": "code",
   "execution_count": 10,
   "id": "facial-sacrifice",
   "metadata": {},
   "outputs": [
    {
     "data": {
      "text/plain": [
       "count    1190.000000\n",
       "mean       53.720168\n",
       "std         9.358203\n",
       "min        28.000000\n",
       "25%        47.000000\n",
       "50%        54.000000\n",
       "75%        60.000000\n",
       "max        77.000000\n",
       "Name: age, dtype: float64"
      ]
     },
     "execution_count": 10,
     "metadata": {},
     "output_type": "execute_result"
    }
   ],
   "source": [
    "db['age'].describe()"
   ]
  },
  {
   "cell_type": "markdown",
   "id": "aging-schedule",
   "metadata": {},
   "source": [
    "#### Based on research done with age and CVD, it is clear that the older an individual get, the more liekly they are to suffer from Heart Disease. Age is directly linnked with weakening body tissues, which inturn affects the mussles of the heart and the way it pumps. Also related to age is a symptom klnow as arrhythmia - irregular beating patterns in the heart. It has been seen that as one ages, the eletrical signals that contract the heart muscells weaken; therfore, reducing the fuction of the heart altogether. Typically these chages can be seen as individuals get to their sixties.\n",
    "\n",
    "#### So, understanding this fact, it was clear that we should look at the dataset and see just how difuesed the age is and to see how many people in the dataset are at, or above the age 60."
   ]
  },
  {
   "cell_type": "code",
   "execution_count": 11,
   "id": "monthly-mentor",
   "metadata": {},
   "outputs": [
    {
     "name": "stdout",
     "output_type": "stream",
     "text": [
      "There are 337 people who are of the age 60 years, or older in the dataset.\n",
      "Meaning that out of the 1190 people, 853 are younger than 60.\n"
     ]
    }
   ],
   "source": [
    "count = 0\n",
    "base_age = 60\n",
    "for person in db['age']:\n",
    "    if person >= base_age:\n",
    "        count +=1\n",
    "        \n",
    "print(F\"There are {count} people who are of the age {base_age} years, or older in the dataset.\")\n",
    "print(F\"Meaning that out of the {db['age'].count()} people, {db['age'].count() - count} are younger than {base_age}.\")"
   ]
  },
  {
   "cell_type": "markdown",
   "id": "facial-variance",
   "metadata": {},
   "source": [
    "### Note: sex is binary where 1 = Male; 0 = Female\n",
    "### Note: target is binary where 1 = heart Disease; 0 = normal"
   ]
  },
  {
   "cell_type": "code",
   "execution_count": 12,
   "id": "quarterly-texture",
   "metadata": {},
   "outputs": [
    {
     "data": {
      "text/plain": [
       "<seaborn.axisgrid.FacetGrid at 0x7ff33175d0d0>"
      ]
     },
     "execution_count": 12,
     "metadata": {},
     "output_type": "execute_result"
    },
    {
     "data": {
      "image/png": "[encoded data removed]",
      "text/plain": [
       "<Figure size 402.375x360 with 1 Axes>"
      ]
     },
     "metadata": {
      "needs_background": "light"
     },
     "output_type": "display_data"
    }
   ],
   "source": [
    "## Looking at the relationship with age and the target for both male and female\n",
    "sns.relplot(x='age', y='sex', hue='target', data=db)"
   ]
  },
  {
   "cell_type": "code",
   "execution_count": 13,
   "id": "egyptian-right",
   "metadata": {},
   "outputs": [
    {
     "data": {
      "text/plain": [
       "<seaborn.axisgrid.FacetGrid at 0x7ff332074130>"
      ]
     },
     "execution_count": 13,
     "metadata": {},
     "output_type": "execute_result"
    },
    {
     "data": {
      "image/png": "[encoded data removed]",
      "text/plain": [
       "<Figure size 720x360 with 2 Axes>"
      ]
     },
     "metadata": {
      "needs_background": "light"
     },
     "output_type": "display_data"
    }
   ],
   "source": [
    "# Getting the distribution of the age values\n",
    "sns.displot(data=db, x=\"age\", col=\"target\", kde=True, bins=35)"
   ]
  },
  {
   "cell_type": "markdown",
   "id": "developing-marking",
   "metadata": {},
   "source": [
    "##### So just from looking at the relational plot of age and gender, it is evident that with this dataset, males are more likely to have heart disease as they age compared to their female counterparts.\n",
    "\n",
    "#### Nonetheless, the general statistics that say individuals around 60 and older have a higher chance of having heart disease holds true for our dataset, as the cases for heart disease seem to spike as the age approaches 60 and interestingly falls as it passes the 60-year mark. I'm curious if at around that age more individuals start to take better care of their health and suffer heart disease less, or if other diseases take them beforehand."
   ]
  },
  {
   "cell_type": "markdown",
   "id": "annoying-ability",
   "metadata": {},
   "source": [
    "To make the age vairable binary, there are some methods that seem plausable. \n",
    "1. Split the age from young--young-adults (0-25), to adults and older (26 - infinity)\n",
    "2. Split by the median of the dataset\n",
    "\n",
    "I've opted to go with option two. Although splitting by a recognized age i.e, young-adults to adults, seems good, it can in fact differ for many people. That sort of metric is to subjective to have any mathamathecial advantage. Ultimately leaving me with decision 2, whcih is generally more perffered. The median is generally a better measure of the center when there are extreme values or outliers because it is not affected by the precise numerical values of the outliers.\n"
   ]
  },
  {
   "cell_type": "code",
   "execution_count": 14,
   "id": "certain-ancient",
   "metadata": {},
   "outputs": [
    {
     "data": {
      "text/plain": [
       "count    1190.000000\n",
       "mean        0.492437\n",
       "std         0.500153\n",
       "min         0.000000\n",
       "25%         0.000000\n",
       "50%         0.000000\n",
       "75%         1.000000\n",
       "max         1.000000\n",
       "Name: age_binary, dtype: float64"
      ]
     },
     "execution_count": 14,
     "metadata": {},
     "output_type": "execute_result"
    }
   ],
   "source": [
    "# SPLITTING THE AGE BY THE MEDIAN\n",
    "\n",
    "# Setting up vairables\n",
    "age_median = db['age'].median()\n",
    "db[\"age_binary\"] = db['age']\n",
    "\n",
    "# Counting and splitting\n",
    "db.loc[db[\"age_binary\"] < age_median, \"age_binary\"] = 0\n",
    "db.loc[db[\"age_binary\"] == age_median, \"age_binary\"] = 0\n",
    "db.loc[db[\"age_binary\"] > age_median, \"age_binary\"] = 1\n",
    "        \n",
    "# Checking results\n",
    "db[\"age_binary\"].describe()"
   ]
  },
  {
   "cell_type": "code",
   "execution_count": 15,
   "id": "light-receptor",
   "metadata": {},
   "outputs": [
    {
     "data": {
      "text/html": [
       "<div>\n",
       "<style scoped>\n",
       "    .dataframe tbody tr th:only-of-type {\n",
       "        vertical-align: middle;\n",
       "    }\n",
       "\n",
       "    .dataframe tbody tr th {\n",
       "        vertical-align: top;\n",
       "    }\n",
       "\n",
       "    .dataframe thead th {\n",
       "        text-align: right;\n",
       "    }\n",
       "</style>\n",
       "<table border=\"1\" class=\"dataframe\">\n",
       "  <thead>\n",
       "    <tr style=\"text-align: right;\">\n",
       "      <th></th>\n",
       "      <th>age</th>\n",
       "      <th>sex</th>\n",
       "      <th>chest pain type</th>\n",
       "      <th>resting bp s</th>\n",
       "      <th>cholesterol</th>\n",
       "      <th>fasting blood sugar</th>\n",
       "      <th>resting ecg</th>\n",
       "      <th>max heart rate</th>\n",
       "      <th>exercise angina</th>\n",
       "      <th>oldpeak</th>\n",
       "      <th>ST slope</th>\n",
       "      <th>target</th>\n",
       "      <th>age_binary</th>\n",
       "    </tr>\n",
       "  </thead>\n",
       "  <tbody>\n",
       "    <tr>\n",
       "      <th>0</th>\n",
       "      <td>40</td>\n",
       "      <td>1</td>\n",
       "      <td>2</td>\n",
       "      <td>140</td>\n",
       "      <td>289</td>\n",
       "      <td>0</td>\n",
       "      <td>0</td>\n",
       "      <td>172</td>\n",
       "      <td>0</td>\n",
       "      <td>0.0</td>\n",
       "      <td>1</td>\n",
       "      <td>0</td>\n",
       "      <td>0</td>\n",
       "    </tr>\n",
       "    <tr>\n",
       "      <th>1</th>\n",
       "      <td>49</td>\n",
       "      <td>0</td>\n",
       "      <td>3</td>\n",
       "      <td>160</td>\n",
       "      <td>180</td>\n",
       "      <td>0</td>\n",
       "      <td>0</td>\n",
       "      <td>156</td>\n",
       "      <td>0</td>\n",
       "      <td>1.0</td>\n",
       "      <td>2</td>\n",
       "      <td>1</td>\n",
       "      <td>0</td>\n",
       "    </tr>\n",
       "    <tr>\n",
       "      <th>2</th>\n",
       "      <td>37</td>\n",
       "      <td>1</td>\n",
       "      <td>2</td>\n",
       "      <td>130</td>\n",
       "      <td>283</td>\n",
       "      <td>0</td>\n",
       "      <td>1</td>\n",
       "      <td>98</td>\n",
       "      <td>0</td>\n",
       "      <td>0.0</td>\n",
       "      <td>1</td>\n",
       "      <td>0</td>\n",
       "      <td>0</td>\n",
       "    </tr>\n",
       "    <tr>\n",
       "      <th>3</th>\n",
       "      <td>48</td>\n",
       "      <td>0</td>\n",
       "      <td>4</td>\n",
       "      <td>138</td>\n",
       "      <td>214</td>\n",
       "      <td>0</td>\n",
       "      <td>0</td>\n",
       "      <td>108</td>\n",
       "      <td>1</td>\n",
       "      <td>1.5</td>\n",
       "      <td>2</td>\n",
       "      <td>1</td>\n",
       "      <td>0</td>\n",
       "    </tr>\n",
       "    <tr>\n",
       "      <th>4</th>\n",
       "      <td>54</td>\n",
       "      <td>1</td>\n",
       "      <td>3</td>\n",
       "      <td>150</td>\n",
       "      <td>195</td>\n",
       "      <td>0</td>\n",
       "      <td>0</td>\n",
       "      <td>122</td>\n",
       "      <td>0</td>\n",
       "      <td>0.0</td>\n",
       "      <td>1</td>\n",
       "      <td>0</td>\n",
       "      <td>0</td>\n",
       "    </tr>\n",
       "    <tr>\n",
       "      <th>...</th>\n",
       "      <td>...</td>\n",
       "      <td>...</td>\n",
       "      <td>...</td>\n",
       "      <td>...</td>\n",
       "      <td>...</td>\n",
       "      <td>...</td>\n",
       "      <td>...</td>\n",
       "      <td>...</td>\n",
       "      <td>...</td>\n",
       "      <td>...</td>\n",
       "      <td>...</td>\n",
       "      <td>...</td>\n",
       "      <td>...</td>\n",
       "    </tr>\n",
       "    <tr>\n",
       "      <th>1185</th>\n",
       "      <td>45</td>\n",
       "      <td>1</td>\n",
       "      <td>1</td>\n",
       "      <td>110</td>\n",
       "      <td>264</td>\n",
       "      <td>0</td>\n",
       "      <td>0</td>\n",
       "      <td>132</td>\n",
       "      <td>0</td>\n",
       "      <td>1.2</td>\n",
       "      <td>2</td>\n",
       "      <td>1</td>\n",
       "      <td>0</td>\n",
       "    </tr>\n",
       "    <tr>\n",
       "      <th>1186</th>\n",
       "      <td>68</td>\n",
       "      <td>1</td>\n",
       "      <td>4</td>\n",
       "      <td>144</td>\n",
       "      <td>193</td>\n",
       "      <td>1</td>\n",
       "      <td>0</td>\n",
       "      <td>141</td>\n",
       "      <td>0</td>\n",
       "      <td>3.4</td>\n",
       "      <td>2</td>\n",
       "      <td>1</td>\n",
       "      <td>1</td>\n",
       "    </tr>\n",
       "    <tr>\n",
       "      <th>1187</th>\n",
       "      <td>57</td>\n",
       "      <td>1</td>\n",
       "      <td>4</td>\n",
       "      <td>130</td>\n",
       "      <td>131</td>\n",
       "      <td>0</td>\n",
       "      <td>0</td>\n",
       "      <td>115</td>\n",
       "      <td>1</td>\n",
       "      <td>1.2</td>\n",
       "      <td>2</td>\n",
       "      <td>1</td>\n",
       "      <td>1</td>\n",
       "    </tr>\n",
       "    <tr>\n",
       "      <th>1188</th>\n",
       "      <td>57</td>\n",
       "      <td>0</td>\n",
       "      <td>2</td>\n",
       "      <td>130</td>\n",
       "      <td>236</td>\n",
       "      <td>0</td>\n",
       "      <td>2</td>\n",
       "      <td>174</td>\n",
       "      <td>0</td>\n",
       "      <td>0.0</td>\n",
       "      <td>2</td>\n",
       "      <td>1</td>\n",
       "      <td>1</td>\n",
       "    </tr>\n",
       "    <tr>\n",
       "      <th>1189</th>\n",
       "      <td>38</td>\n",
       "      <td>1</td>\n",
       "      <td>3</td>\n",
       "      <td>138</td>\n",
       "      <td>175</td>\n",
       "      <td>0</td>\n",
       "      <td>0</td>\n",
       "      <td>173</td>\n",
       "      <td>0</td>\n",
       "      <td>0.0</td>\n",
       "      <td>1</td>\n",
       "      <td>0</td>\n",
       "      <td>0</td>\n",
       "    </tr>\n",
       "  </tbody>\n",
       "</table>\n",
       "<p>1190 rows × 13 columns</p>\n",
       "</div>"
      ],
      "text/plain": [
       "      age  sex  chest pain type  resting bp s  cholesterol  \\\n",
       "0      40    1                2           140          289   \n",
       "1      49    0                3           160          180   \n",
       "2      37    1                2           130          283   \n",
       "3      48    0                4           138          214   \n",
       "4      54    1                3           150          195   \n",
       "...   ...  ...              ...           ...          ...   \n",
       "1185   45    1                1           110          264   \n",
       "1186   68    1                4           144          193   \n",
       "1187   57    1                4           130          131   \n",
       "1188   57    0                2           130          236   \n",
       "1189   38    1                3           138          175   \n",
       "\n",
       "      fasting blood sugar  resting ecg  max heart rate  exercise angina  \\\n",
       "0                       0            0             172                0   \n",
       "1                       0            0             156                0   \n",
       "2                       0            1              98                0   \n",
       "3                       0            0             108                1   \n",
       "4                       0            0             122                0   \n",
       "...                   ...          ...             ...              ...   \n",
       "1185                    0            0             132                0   \n",
       "1186                    1            0             141                0   \n",
       "1187                    0            0             115                1   \n",
       "1188                    0            2             174                0   \n",
       "1189                    0            0             173                0   \n",
       "\n",
       "      oldpeak  ST slope  target  age_binary  \n",
       "0         0.0         1       0           0  \n",
       "1         1.0         2       1           0  \n",
       "2         0.0         1       0           0  \n",
       "3         1.5         2       1           0  \n",
       "4         0.0         1       0           0  \n",
       "...       ...       ...     ...         ...  \n",
       "1185      1.2         2       1           0  \n",
       "1186      3.4         2       1           1  \n",
       "1187      1.2         2       1           1  \n",
       "1188      0.0         2       1           1  \n",
       "1189      0.0         1       0           0  \n",
       "\n",
       "[1190 rows x 13 columns]"
      ]
     },
     "execution_count": 15,
     "metadata": {},
     "output_type": "execute_result"
    }
   ],
   "source": [
    "db"
   ]
  },
  {
   "cell_type": "markdown",
   "id": "continental-drink",
   "metadata": {},
   "source": [
    "#### Standardizing the age variable\n",
    "\n",
    "\n",
    "Becaseu the age vairable follows a normal distribution, it is best to standize it becasue Standardization is only applicable on the data values that follows Normal Distribution"
   ]
  },
  {
   "cell_type": "markdown",
   "id": "tender-freight",
   "metadata": {},
   "source": [
    "In conclusion, I've discovered that anyone at any age can actually have HD, howver, if a person is young and displays the symptons, or key markers that closely correlate with HD, then their chances are High. For this dataset, the only thing that I've included that is out side the reccomended set of accuracy yeild vairables is blood pressure. This will be a good indicator for determining if the risk for HD should be higher or lower based on the age.\n",
    "\n",
    "Essentailly what I would be doing is, looking at the age and the blood pressure level, if the individual has a blood pressure level higher than what is approprate then, their chances of having Heart Disease is high."
   ]
  },
  {
   "cell_type": "markdown",
   "id": "earlier-american",
   "metadata": {},
   "source": [
    "## Understanding the OLDPEAK vairable "
   ]
  },
  {
   "cell_type": "code",
   "execution_count": 16,
   "id": "extended-celtic",
   "metadata": {},
   "outputs": [
    {
     "data": {
      "text/plain": [
       "count    1190.000000\n",
       "mean        0.922773\n",
       "std         1.086337\n",
       "min        -2.600000\n",
       "25%         0.000000\n",
       "50%         0.600000\n",
       "75%         1.600000\n",
       "max         6.200000\n",
       "Name: oldpeak, dtype: float64"
      ]
     },
     "execution_count": 16,
     "metadata": {},
     "output_type": "execute_result"
    }
   ],
   "source": [
    "db['oldpeak'].describe()"
   ]
  },
  {
   "cell_type": "code",
   "execution_count": 17,
   "id": "biological-closer",
   "metadata": {},
   "outputs": [
    {
     "data": {
      "text/plain": [
       "<seaborn.axisgrid.FacetGrid at 0x7ff32a865970>"
      ]
     },
     "execution_count": 17,
     "metadata": {},
     "output_type": "execute_result"
    },
    {
     "data": {
      "image/png": "[encoded data removed]",
      "text/plain": [
       "<Figure size 402.375x360 with 1 Axes>"
      ]
     },
     "metadata": {
      "needs_background": "light"
     },
     "output_type": "display_data"
    }
   ],
   "source": [
    "## Looking at the relationship with oldpeak and the target for both male and female\n",
    "sns.relplot(x='oldpeak', y='target', hue='sex', data=db)"
   ]
  },
  {
   "cell_type": "code",
   "execution_count": 18,
   "id": "defined-learning",
   "metadata": {},
   "outputs": [
    {
     "data": {
      "text/plain": [
       "<seaborn.axisgrid.FacetGrid at 0x7ff3320b83a0>"
      ]
     },
     "execution_count": 18,
     "metadata": {},
     "output_type": "execute_result"
    },
    {
     "data": {
      "image/png": "[encoded data removed]",
      "text/plain": [
       "<Figure size 762.375x360 with 2 Axes>"
      ]
     },
     "metadata": {
      "needs_background": "light"
     },
     "output_type": "display_data"
    }
   ],
   "source": [
    "# Getting the distribution of the Oldpeak values\n",
    "sns.displot(data=db, x=\"oldpeak\", col=\"target\", hue=\"sex\", kde=True, bins=20)"
   ]
  },
  {
   "cell_type": "markdown",
   "id": "following-retailer",
   "metadata": {},
   "source": [
    "#### From the data, it semse like men with oldpeak greater than ***1*** and less than ***4*** have a high chance of having heart disease. However, it's hard to say the same for women because, it's hard to say if there is a correlation with oldpeak and heart disease for women."
   ]
  },
  {
   "cell_type": "markdown",
   "id": "pending-robinson",
   "metadata": {},
   "source": [
    "# Building a Model with the Vairabels we have right Now before making the neural Network"
   ]
  },
  {
   "cell_type": "code",
   "execution_count": 19,
   "id": "assigned-repository",
   "metadata": {},
   "outputs": [
    {
     "name": "stdout",
     "output_type": "stream",
     "text": [
      "67\n",
      "58\n",
      "50\n",
      "47\n",
      "46\n",
      "44\n",
      "40\n",
      "38\n",
      "37\n",
      "33\n",
      "32\n",
      "31\n",
      "29\n",
      "27\n",
      "26\n",
      "25\n",
      "23\n",
      "19\n",
      "18\n",
      "17\n",
      "16\n",
      "14\n",
      "13\n",
      "11\n",
      "9\n",
      "8\n",
      "6\n",
      "5\n",
      "4\n",
      "3\n",
      "2\n",
      "1\n"
     ]
    }
   ],
   "source": [
    "lists = sorted(list(db['age']))\n",
    "type(lists)\n",
    "lists.sort()\n",
    "nl = (db['age'].value_counts())\n",
    "l = nl.drop_duplicates()\n",
    "for i in l:\n",
    "    print(i)"
   ]
  },
  {
   "cell_type": "code",
   "execution_count": 20,
   "id": "agreed-space",
   "metadata": {},
   "outputs": [],
   "source": [
    "# Creating a Helper Function to Calculate probability\n",
    "def probability(feature,target, database):\n",
    "    # Defining variables\n",
    "    sector_counts = db[feature].value_counts().count()\n",
    "    \n",
    "    # Defining vairables\n",
    "    feature_list = (list(db[feature]))\n",
    "    target_list = (list(db[target]))\n",
    "    \n",
    "    zero_count = 0\n",
    "    one_count = 0\n",
    "    \n",
    "    # Vairables to find the sector with the greatest probablity\n",
    "    prime_sector_hd = 0\n",
    "    prime_sector_not_hd = 0\n",
    "    \n",
    "    max_probability_hd = 0\n",
    "    max_probability_not_hd = 0\n",
    "    \n",
    "    \n",
    "    # Based on the sector... \n",
    "    for sector in range(1, sector_counts+1):\n",
    "        zero_count = 0\n",
    "        one_count = 0\n",
    "        # Run the loop to figure out counts\n",
    "        for i in range(len(feature_list)):\n",
    "            if feature_list[i] == sector and target_list[i] == 0:\n",
    "                zero_count += 1\n",
    "            elif feature_list[i] == sector and target_list[i] == 1:\n",
    "                one_count += 1\n",
    "                \n",
    "        if one_count == 0 or zero_count == 0:\n",
    "            if one_count == 0 and zero_count != 0:\n",
    "                hd_p = 0\n",
    "                not_hd_p = round(zero_count/(zero_count+one_count) * 100, 2)\n",
    "            elif zero_count == 0 and one_count != 0:\n",
    "                not_hd_p = 0\n",
    "                hd_p = round(one_count/(zero_count+one_count) * 100, 2)\n",
    "            else:\n",
    "                hd_p = 0\n",
    "                not_hd_p = 0\n",
    "        else:\n",
    "            not_hd_p = round(zero_count/(zero_count+one_count) * 100, 2)\n",
    "            hd_p = round(one_count/(zero_count+one_count) * 100, 2)\n",
    "                \n",
    "        if max_probability_hd < hd_p:\n",
    "            max_probability_hd = hd_p\n",
    "            prime_sector_hd = sector\n",
    "\n",
    "        if max_probability_not_hd < not_hd_p:\n",
    "            max_probability_not_hd = not_hd_p\n",
    "            prime_sector_not_hd = sector\n",
    "\n",
    "        # Print out results \n",
    "        print(\"<-------------------------------------------------------------------------------------------------------------->\")\n",
    "        print(f\"The amount of ppl without HD in sector {sector}: {zero_count}\")\n",
    "        print(f\"The amount of ppl with HD in sector {sector}: {one_count}\")\n",
    "        print(f\"Total count in sector {sector}: {zero_count+one_count}\")\n",
    "        print(f\"The probability of having heart disease in sector {sector} is: {hd_p}%\")        \n",
    "        print(f\"The probability of not having heart disease in sector {sector} is: {not_hd_p}%\")\n",
    "    \n",
    "    \n",
    "    # The Sector with the heighest proabilities\n",
    "    print(\"\")\n",
    "    print(\"\")\n",
    "    print(f\"The sector with the heights probability of ppl without HD is sector {prime_sector_not_hd} with a max\\\n",
    "    probability of {max_probability_not_hd}\")\n",
    "    print(f\"The sector with the heights probability of ppl with HD is sector {prime_sector_hd} with a max\\\n",
    "    probability of {max_probability_hd}\")\n",
    "    "
   ]
  },
  {
   "cell_type": "markdown",
   "id": "experienced-india",
   "metadata": {},
   "source": [
    "### Age"
   ]
  },
  {
   "cell_type": "code",
   "execution_count": 21,
   "id": "accepting-cornell",
   "metadata": {},
   "outputs": [
    {
     "data": {
      "text/plain": [
       "<AxesSubplot:xlabel='age', ylabel='count'>"
      ]
     },
     "execution_count": 21,
     "metadata": {},
     "output_type": "execute_result"
    },
    {
     "data": {
      "image/png": "[encoded data removed]",
      "text/plain": [
       "<Figure size 1872x720 with 1 Axes>"
      ]
     },
     "metadata": {
      "needs_background": "light"
     },
     "output_type": "display_data"
    }
   ],
   "source": [
    "# Creating a new DB\n",
    "cf_db = db\n",
    "# Looking at how each age is affect by heart disease\n",
    "plt.figure(figsize=(26, 10))\n",
    "sns.countplot(data=cf_db, x='age', hue='target', palette='colorblind')"
   ]
  },
  {
   "cell_type": "code",
   "execution_count": 22,
   "id": "joint-remedy",
   "metadata": {},
   "outputs": [
    {
     "name": "stdout",
     "output_type": "stream",
     "text": [
      "<-------------------------------------------------------------------------------------------------------------->\n",
      "The amount of ppl without HD in sector 1: 0\n",
      "The amount of ppl with HD in sector 1: 0\n",
      "Total count in sector 1: 0\n",
      "The probability of having heart disease in sector 1 is: 0%\n",
      "The probability of not having heart disease in sector 1 is: 0%\n",
      "<-------------------------------------------------------------------------------------------------------------->\n",
      "The amount of ppl without HD in sector 2: 0\n",
      "The amount of ppl with HD in sector 2: 0\n",
      "Total count in sector 2: 0\n",
      "The probability of having heart disease in sector 2 is: 0%\n",
      "The probability of not having heart disease in sector 2 is: 0%\n",
      "<-------------------------------------------------------------------------------------------------------------->\n",
      "The amount of ppl without HD in sector 3: 0\n",
      "The amount of ppl with HD in sector 3: 0\n",
      "Total count in sector 3: 0\n",
      "The probability of having heart disease in sector 3 is: 0%\n",
      "The probability of not having heart disease in sector 3 is: 0%\n",
      "<-------------------------------------------------------------------------------------------------------------->\n",
      "The amount of ppl without HD in sector 4: 0\n",
      "The amount of ppl with HD in sector 4: 0\n",
      "Total count in sector 4: 0\n",
      "The probability of having heart disease in sector 4 is: 0%\n",
      "The probability of not having heart disease in sector 4 is: 0%\n",
      "<-------------------------------------------------------------------------------------------------------------->\n",
      "The amount of ppl without HD in sector 5: 0\n",
      "The amount of ppl with HD in sector 5: 0\n",
      "Total count in sector 5: 0\n",
      "The probability of having heart disease in sector 5 is: 0%\n",
      "The probability of not having heart disease in sector 5 is: 0%\n",
      "<-------------------------------------------------------------------------------------------------------------->\n",
      "The amount of ppl without HD in sector 6: 0\n",
      "The amount of ppl with HD in sector 6: 0\n",
      "Total count in sector 6: 0\n",
      "The probability of having heart disease in sector 6 is: 0%\n",
      "The probability of not having heart disease in sector 6 is: 0%\n",
      "<-------------------------------------------------------------------------------------------------------------->\n",
      "The amount of ppl without HD in sector 7: 0\n",
      "The amount of ppl with HD in sector 7: 0\n",
      "Total count in sector 7: 0\n",
      "The probability of having heart disease in sector 7 is: 0%\n",
      "The probability of not having heart disease in sector 7 is: 0%\n",
      "<-------------------------------------------------------------------------------------------------------------->\n",
      "The amount of ppl without HD in sector 8: 0\n",
      "The amount of ppl with HD in sector 8: 0\n",
      "Total count in sector 8: 0\n",
      "The probability of having heart disease in sector 8 is: 0%\n",
      "The probability of not having heart disease in sector 8 is: 0%\n",
      "<-------------------------------------------------------------------------------------------------------------->\n",
      "The amount of ppl without HD in sector 9: 0\n",
      "The amount of ppl with HD in sector 9: 0\n",
      "Total count in sector 9: 0\n",
      "The probability of having heart disease in sector 9 is: 0%\n",
      "The probability of not having heart disease in sector 9 is: 0%\n",
      "<-------------------------------------------------------------------------------------------------------------->\n",
      "The amount of ppl without HD in sector 10: 0\n",
      "The amount of ppl with HD in sector 10: 0\n",
      "Total count in sector 10: 0\n",
      "The probability of having heart disease in sector 10 is: 0%\n",
      "The probability of not having heart disease in sector 10 is: 0%\n",
      "<-------------------------------------------------------------------------------------------------------------->\n",
      "The amount of ppl without HD in sector 11: 0\n",
      "The amount of ppl with HD in sector 11: 0\n",
      "Total count in sector 11: 0\n",
      "The probability of having heart disease in sector 11 is: 0%\n",
      "The probability of not having heart disease in sector 11 is: 0%\n",
      "<-------------------------------------------------------------------------------------------------------------->\n",
      "The amount of ppl without HD in sector 12: 0\n",
      "The amount of ppl with HD in sector 12: 0\n",
      "Total count in sector 12: 0\n",
      "The probability of having heart disease in sector 12 is: 0%\n",
      "The probability of not having heart disease in sector 12 is: 0%\n",
      "<-------------------------------------------------------------------------------------------------------------->\n",
      "The amount of ppl without HD in sector 13: 0\n",
      "The amount of ppl with HD in sector 13: 0\n",
      "Total count in sector 13: 0\n",
      "The probability of having heart disease in sector 13 is: 0%\n",
      "The probability of not having heart disease in sector 13 is: 0%\n",
      "<-------------------------------------------------------------------------------------------------------------->\n",
      "The amount of ppl without HD in sector 14: 0\n",
      "The amount of ppl with HD in sector 14: 0\n",
      "Total count in sector 14: 0\n",
      "The probability of having heart disease in sector 14 is: 0%\n",
      "The probability of not having heart disease in sector 14 is: 0%\n",
      "<-------------------------------------------------------------------------------------------------------------->\n",
      "The amount of ppl without HD in sector 15: 0\n",
      "The amount of ppl with HD in sector 15: 0\n",
      "Total count in sector 15: 0\n",
      "The probability of having heart disease in sector 15 is: 0%\n",
      "The probability of not having heart disease in sector 15 is: 0%\n",
      "<-------------------------------------------------------------------------------------------------------------->\n",
      "The amount of ppl without HD in sector 16: 0\n",
      "The amount of ppl with HD in sector 16: 0\n",
      "Total count in sector 16: 0\n",
      "The probability of having heart disease in sector 16 is: 0%\n",
      "The probability of not having heart disease in sector 16 is: 0%\n",
      "<-------------------------------------------------------------------------------------------------------------->\n",
      "The amount of ppl without HD in sector 17: 0\n",
      "The amount of ppl with HD in sector 17: 0\n",
      "Total count in sector 17: 0\n",
      "The probability of having heart disease in sector 17 is: 0%\n",
      "The probability of not having heart disease in sector 17 is: 0%\n",
      "<-------------------------------------------------------------------------------------------------------------->\n",
      "The amount of ppl without HD in sector 18: 0\n",
      "The amount of ppl with HD in sector 18: 0\n",
      "Total count in sector 18: 0\n",
      "The probability of having heart disease in sector 18 is: 0%\n",
      "The probability of not having heart disease in sector 18 is: 0%\n",
      "<-------------------------------------------------------------------------------------------------------------->\n",
      "The amount of ppl without HD in sector 19: 0\n",
      "The amount of ppl with HD in sector 19: 0\n",
      "Total count in sector 19: 0\n",
      "The probability of having heart disease in sector 19 is: 0%\n",
      "The probability of not having heart disease in sector 19 is: 0%\n",
      "<-------------------------------------------------------------------------------------------------------------->\n",
      "The amount of ppl without HD in sector 20: 0\n",
      "The amount of ppl with HD in sector 20: 0\n",
      "Total count in sector 20: 0\n",
      "The probability of having heart disease in sector 20 is: 0%\n",
      "The probability of not having heart disease in sector 20 is: 0%\n",
      "<-------------------------------------------------------------------------------------------------------------->\n",
      "The amount of ppl without HD in sector 21: 0\n",
      "The amount of ppl with HD in sector 21: 0\n",
      "Total count in sector 21: 0\n",
      "The probability of having heart disease in sector 21 is: 0%\n",
      "The probability of not having heart disease in sector 21 is: 0%\n",
      "<-------------------------------------------------------------------------------------------------------------->\n",
      "The amount of ppl without HD in sector 22: 0\n",
      "The amount of ppl with HD in sector 22: 0\n",
      "Total count in sector 22: 0\n",
      "The probability of having heart disease in sector 22 is: 0%\n",
      "The probability of not having heart disease in sector 22 is: 0%\n",
      "<-------------------------------------------------------------------------------------------------------------->\n",
      "The amount of ppl without HD in sector 23: 0\n",
      "The amount of ppl with HD in sector 23: 0\n",
      "Total count in sector 23: 0\n",
      "The probability of having heart disease in sector 23 is: 0%\n",
      "The probability of not having heart disease in sector 23 is: 0%\n",
      "<-------------------------------------------------------------------------------------------------------------->\n",
      "The amount of ppl without HD in sector 24: 0\n",
      "The amount of ppl with HD in sector 24: 0\n",
      "Total count in sector 24: 0\n",
      "The probability of having heart disease in sector 24 is: 0%\n",
      "The probability of not having heart disease in sector 24 is: 0%\n",
      "<-------------------------------------------------------------------------------------------------------------->\n",
      "The amount of ppl without HD in sector 25: 0\n",
      "The amount of ppl with HD in sector 25: 0\n",
      "Total count in sector 25: 0\n",
      "The probability of having heart disease in sector 25 is: 0%\n",
      "The probability of not having heart disease in sector 25 is: 0%\n",
      "<-------------------------------------------------------------------------------------------------------------->\n",
      "The amount of ppl without HD in sector 26: 0\n",
      "The amount of ppl with HD in sector 26: 0\n",
      "Total count in sector 26: 0\n",
      "The probability of having heart disease in sector 26 is: 0%\n",
      "The probability of not having heart disease in sector 26 is: 0%\n",
      "<-------------------------------------------------------------------------------------------------------------->\n",
      "The amount of ppl without HD in sector 27: 0\n",
      "The amount of ppl with HD in sector 27: 0\n",
      "Total count in sector 27: 0\n",
      "The probability of having heart disease in sector 27 is: 0%\n",
      "The probability of not having heart disease in sector 27 is: 0%\n",
      "<-------------------------------------------------------------------------------------------------------------->\n",
      "The amount of ppl without HD in sector 28: 1\n",
      "The amount of ppl with HD in sector 28: 0\n",
      "Total count in sector 28: 1\n",
      "The probability of having heart disease in sector 28 is: 0%\n",
      "The probability of not having heart disease in sector 28 is: 100.0%\n",
      "<-------------------------------------------------------------------------------------------------------------->\n",
      "The amount of ppl without HD in sector 29: 4\n",
      "The amount of ppl with HD in sector 29: 0\n",
      "Total count in sector 29: 4\n",
      "The probability of having heart disease in sector 29 is: 0%\n",
      "The probability of not having heart disease in sector 29 is: 100.0%\n",
      "<-------------------------------------------------------------------------------------------------------------->\n",
      "The amount of ppl without HD in sector 30: 1\n",
      "The amount of ppl with HD in sector 30: 0\n",
      "Total count in sector 30: 1\n",
      "The probability of having heart disease in sector 30 is: 0%\n",
      "The probability of not having heart disease in sector 30 is: 100.0%\n",
      "<-------------------------------------------------------------------------------------------------------------->\n",
      "The amount of ppl without HD in sector 31: 1\n",
      "The amount of ppl with HD in sector 31: 1\n",
      "Total count in sector 31: 2\n",
      "The probability of having heart disease in sector 31 is: 50.0%\n",
      "The probability of not having heart disease in sector 31 is: 50.0%\n",
      "<-------------------------------------------------------------------------------------------------------------->\n",
      "The amount of ppl without HD in sector 32: 3\n",
      "The amount of ppl with HD in sector 32: 2\n",
      "Total count in sector 32: 5\n",
      "The probability of having heart disease in sector 32 is: 40.0%\n",
      "The probability of not having heart disease in sector 32 is: 60.0%\n",
      "<-------------------------------------------------------------------------------------------------------------->\n",
      "The amount of ppl without HD in sector 33: 1\n",
      "The amount of ppl with HD in sector 33: 1\n",
      "Total count in sector 33: 2\n",
      "The probability of having heart disease in sector 33 is: 50.0%\n",
      "The probability of not having heart disease in sector 33 is: 50.0%\n",
      "<-------------------------------------------------------------------------------------------------------------->\n",
      "The amount of ppl without HD in sector 34: 7\n",
      "The amount of ppl with HD in sector 34: 2\n",
      "Total count in sector 34: 9\n",
      "The probability of having heart disease in sector 34 is: 22.22%\n",
      "The probability of not having heart disease in sector 34 is: 77.78%\n",
      "<-------------------------------------------------------------------------------------------------------------->\n",
      "The amount of ppl without HD in sector 35: 8\n",
      "The amount of ppl with HD in sector 35: 6\n",
      "Total count in sector 35: 14\n",
      "The probability of having heart disease in sector 35 is: 42.86%\n",
      "The probability of not having heart disease in sector 35 is: 57.14%\n",
      "<-------------------------------------------------------------------------------------------------------------->\n",
      "The amount of ppl without HD in sector 36: 4\n",
      "The amount of ppl with HD in sector 36: 2\n",
      "Total count in sector 36: 6\n",
      "The probability of having heart disease in sector 36 is: 33.33%\n",
      "The probability of not having heart disease in sector 36 is: 66.67%\n",
      "<-------------------------------------------------------------------------------------------------------------->\n",
      "The amount of ppl without HD in sector 37: 12\n",
      "The amount of ppl with HD in sector 37: 1\n",
      "Total count in sector 37: 13\n",
      "The probability of having heart disease in sector 37 is: 7.69%\n",
      "The probability of not having heart disease in sector 37 is: 92.31%\n",
      "<-------------------------------------------------------------------------------------------------------------->\n",
      "The amount of ppl without HD in sector 38: 5\n",
      "The amount of ppl with HD in sector 38: 12\n",
      "Total count in sector 38: 17\n",
      "The probability of having heart disease in sector 38 is: 70.59%\n",
      "The probability of not having heart disease in sector 38 is: 29.41%\n",
      "<-------------------------------------------------------------------------------------------------------------->\n",
      "The amount of ppl without HD in sector 39: 15\n",
      "The amount of ppl with HD in sector 39: 3\n",
      "Total count in sector 39: 18\n",
      "The probability of having heart disease in sector 39 is: 16.67%\n",
      "The probability of not having heart disease in sector 39 is: 83.33%\n",
      "<-------------------------------------------------------------------------------------------------------------->\n",
      "The amount of ppl without HD in sector 40: 8\n",
      "The amount of ppl with HD in sector 40: 8\n",
      "Total count in sector 40: 16\n",
      "The probability of having heart disease in sector 40 is: 50.0%\n",
      "The probability of not having heart disease in sector 40 is: 50.0%\n",
      "<-------------------------------------------------------------------------------------------------------------->\n",
      "The amount of ppl without HD in sector 41: 26\n",
      "The amount of ppl with HD in sector 41: 7\n",
      "Total count in sector 41: 33\n",
      "The probability of having heart disease in sector 41 is: 21.21%\n",
      "The probability of not having heart disease in sector 41 is: 78.79%\n",
      "<-------------------------------------------------------------------------------------------------------------->\n",
      "The amount of ppl without HD in sector 42: 22\n",
      "The amount of ppl with HD in sector 42: 4\n",
      "Total count in sector 42: 26\n",
      "The probability of having heart disease in sector 42 is: 15.38%\n",
      "The probability of not having heart disease in sector 42 is: 84.62%\n",
      "<-------------------------------------------------------------------------------------------------------------->\n",
      "The amount of ppl without HD in sector 43: 18\n",
      "The amount of ppl with HD in sector 43: 13\n",
      "Total count in sector 43: 31\n",
      "The probability of having heart disease in sector 43 is: 41.94%\n",
      "The probability of not having heart disease in sector 43 is: 58.06%\n",
      "<-------------------------------------------------------------------------------------------------------------->\n",
      "The amount of ppl without HD in sector 44: 21\n",
      "The amount of ppl with HD in sector 44: 8\n",
      "Total count in sector 44: 29\n",
      "The probability of having heart disease in sector 44 is: 27.59%\n",
      "The probability of not having heart disease in sector 44 is: 72.41%\n",
      "<-------------------------------------------------------------------------------------------------------------->\n",
      "The amount of ppl without HD in sector 45: 21\n",
      "The amount of ppl with HD in sector 45: 4\n",
      "Total count in sector 45: 25\n",
      "The probability of having heart disease in sector 45 is: 16.0%\n",
      "The probability of not having heart disease in sector 45 is: 84.0%\n",
      "<-------------------------------------------------------------------------------------------------------------->\n",
      "The amount of ppl without HD in sector 46: 15\n",
      "The amount of ppl with HD in sector 46: 16\n",
      "Total count in sector 46: 31\n",
      "The probability of having heart disease in sector 46 is: 51.61%\n",
      "The probability of not having heart disease in sector 46 is: 48.39%\n",
      "<-------------------------------------------------------------------------------------------------------------->\n",
      "The amount of ppl without HD in sector 47: 10\n",
      "The amount of ppl with HD in sector 47: 13\n",
      "Total count in sector 47: 23\n",
      "The probability of having heart disease in sector 47 is: 56.52%\n",
      "The probability of not having heart disease in sector 47 is: 43.48%\n",
      "<-------------------------------------------------------------------------------------------------------------->\n",
      "The amount of ppl without HD in sector 48: 20\n",
      "The amount of ppl with HD in sector 48: 18\n",
      "Total count in sector 48: 38\n",
      "The probability of having heart disease in sector 48 is: 47.37%\n",
      "The probability of not having heart disease in sector 48 is: 52.63%\n",
      "<-------------------------------------------------------------------------------------------------------------->\n",
      "The amount of ppl without HD in sector 49: 14\n",
      "The amount of ppl with HD in sector 49: 13\n",
      "Total count in sector 49: 27\n",
      "The probability of having heart disease in sector 49 is: 48.15%\n",
      "The probability of not having heart disease in sector 49 is: 51.85%\n",
      "<-------------------------------------------------------------------------------------------------------------->\n",
      "The amount of ppl without HD in sector 50: 15\n",
      "The amount of ppl with HD in sector 50: 17\n",
      "Total count in sector 50: 32\n",
      "The probability of having heart disease in sector 50 is: 53.12%\n",
      "The probability of not having heart disease in sector 50 is: 46.88%\n",
      "\n",
      "\n",
      "The sector with the heights probability of ppl without HD is sector 28 with a max    probability of 100.0\n",
      "The sector with the heights probability of ppl with HD is sector 38 with a max    probability of 70.59\n"
     ]
    }
   ],
   "source": [
    "probability(\"age\", \"target\", cf_db)"
   ]
  },
  {
   "cell_type": "code",
   "execution_count": 23,
   "id": "exempt-globe",
   "metadata": {},
   "outputs": [
    {
     "data": {
      "text/plain": [
       "40"
      ]
     },
     "execution_count": 23,
     "metadata": {},
     "output_type": "execute_result"
    }
   ],
   "source": [
    "db['age'][0]"
   ]
  },
  {
   "cell_type": "markdown",
   "id": "stuffed-bedroom",
   "metadata": {},
   "source": [
    "### Oldpeak"
   ]
  },
  {
   "cell_type": "code",
   "execution_count": 24,
   "id": "internal-college",
   "metadata": {},
   "outputs": [
    {
     "data": {
      "text/plain": [
       "<AxesSubplot:xlabel='oldpeak', ylabel='count'>"
      ]
     },
     "execution_count": 24,
     "metadata": {},
     "output_type": "execute_result"
    },
    {
     "data": {
      "image/png": "[encoded data removed]",
      "text/plain": [
       "<Figure size 1872x1152 with 1 Axes>"
      ]
     },
     "metadata": {
      "needs_background": "light"
     },
     "output_type": "display_data"
    }
   ],
   "source": [
    "# Looking at how oldpeak is affect by heart disease\n",
    "plt.figure(figsize=(26, 16))\n",
    "sns.countplot(data=cf_db, x='oldpeak', hue='target', palette='colorblind')"
   ]
  },
  {
   "cell_type": "markdown",
   "id": "completed-weapon",
   "metadata": {},
   "source": [
    "### Chest Pain Type\n",
    "Although this variable seems useful, it can bne a little vague since it doesn't tell what each pain level feels like or the effects each pain level has on the individual. "
   ]
  },
  {
   "cell_type": "code",
   "execution_count": 26,
   "id": "chubby-crowd",
   "metadata": {},
   "outputs": [
    {
     "data": {
      "text/plain": [
       "<AxesSubplot:xlabel='chest pain type', ylabel='count'>"
      ]
     },
     "execution_count": 26,
     "metadata": {},
     "output_type": "execute_result"
    },
    {
     "data": {
      "image/png": "[encoded data removed]",
      "text/plain": [
       "<Figure size 1152x432 with 1 Axes>"
      ]
     },
     "metadata": {
      "needs_background": "light"
     },
     "output_type": "display_data"
    }
   ],
   "source": [
    "# Looking at how chest pain type is affect by heart disease\n",
    "plt.figure(figsize=(16, 6))\n",
    "sns.countplot(data=cf_db, x='chest pain type', hue='target', palette='colorblind')"
   ]
  },
  {
   "cell_type": "code",
   "execution_count": 27,
   "id": "pressing-frame",
   "metadata": {},
   "outputs": [
    {
     "name": "stdout",
     "output_type": "stream",
     "text": [
      "<-------------------------------------------------------------------------------------------------------------->\n",
      "The amount of ppl without HD in sector 1: 41\n",
      "The amount of ppl with HD in sector 1: 25\n",
      "Total count in sector 1: 66\n",
      "The probability of having heart disease in sector 1 is: 37.88%\n",
      "The probability of not having heart disease in sector 1 is: 62.12%\n",
      "<-------------------------------------------------------------------------------------------------------------->\n",
      "The amount of ppl without HD in sector 2: 185\n",
      "The amount of ppl with HD in sector 2: 31\n",
      "Total count in sector 2: 216\n",
      "The probability of having heart disease in sector 2 is: 14.35%\n",
      "The probability of not having heart disease in sector 2 is: 85.65%\n",
      "<-------------------------------------------------------------------------------------------------------------->\n",
      "The amount of ppl without HD in sector 3: 193\n",
      "The amount of ppl with HD in sector 3: 90\n",
      "Total count in sector 3: 283\n",
      "The probability of having heart disease in sector 3 is: 31.8%\n",
      "The probability of not having heart disease in sector 3 is: 68.2%\n",
      "<-------------------------------------------------------------------------------------------------------------->\n",
      "The amount of ppl without HD in sector 4: 142\n",
      "The amount of ppl with HD in sector 4: 483\n",
      "Total count in sector 4: 625\n",
      "The probability of having heart disease in sector 4 is: 77.28%\n",
      "The probability of not having heart disease in sector 4 is: 22.72%\n",
      "\n",
      "\n",
      "The sector with the heights probability of ppl without HD is sector 2 with a max    probability of 85.65\n",
      "The sector with the heights probability of ppl with HD is sector 4 with a max    probability of 77.28\n"
     ]
    }
   ],
   "source": [
    "probability(\"chest pain type\", \"target\", cf_db)"
   ]
  },
  {
   "cell_type": "markdown",
   "id": "aquatic-scale",
   "metadata": {},
   "source": [
    "### Exersise Angina"
   ]
  },
  {
   "cell_type": "code",
   "execution_count": 28,
   "id": "controlled-manchester",
   "metadata": {},
   "outputs": [
    {
     "data": {
      "text/plain": [
       "<AxesSubplot:xlabel='exercise angina', ylabel='count'>"
      ]
     },
     "execution_count": 28,
     "metadata": {},
     "output_type": "execute_result"
    },
    {
     "data": {
      "image/png": "[encoded data removed]",
      "text/plain": [
       "<Figure size 1152x432 with 1 Axes>"
      ]
     },
     "metadata": {
      "needs_background": "light"
     },
     "output_type": "display_data"
    }
   ],
   "source": [
    "# Looking at how exercise angina is affect by heart disease\n",
    "plt.figure(figsize=(16, 6))\n",
    "sns.countplot(data=cf_db, x='exercise angina', hue='target', palette='colorblind')"
   ]
  },
  {
   "cell_type": "code",
   "execution_count": 29,
   "id": "cheap-deadline",
   "metadata": {},
   "outputs": [
    {
     "name": "stdout",
     "output_type": "stream",
     "text": [
      "<-------------------------------------------------------------------------------------------------------------->\n",
      "The amount of ppl without HD in sector 1: 78\n",
      "The amount of ppl with HD in sector 1: 383\n",
      "Total count in sector 1: 461\n",
      "The probability of having heart disease in sector 1 is: 83.08%\n",
      "The probability of not having heart disease in sector 1 is: 16.92%\n",
      "<-------------------------------------------------------------------------------------------------------------->\n",
      "The amount of ppl without HD in sector 2: 0\n",
      "The amount of ppl with HD in sector 2: 0\n",
      "Total count in sector 2: 0\n",
      "The probability of having heart disease in sector 2 is: 0%\n",
      "The probability of not having heart disease in sector 2 is: 0%\n",
      "\n",
      "\n",
      "The sector with the heights probability of ppl without HD is sector 1 with a max    probability of 16.92\n",
      "The sector with the heights probability of ppl with HD is sector 1 with a max    probability of 83.08\n"
     ]
    }
   ],
   "source": [
    "probability(\"exercise angina\", \"target\", cf_db)"
   ]
  },
  {
   "cell_type": "markdown",
   "id": "social-weight",
   "metadata": {},
   "source": [
    "### ST Slope"
   ]
  },
  {
   "cell_type": "code",
   "execution_count": 30,
   "id": "virtual-radio",
   "metadata": {
    "scrolled": false
   },
   "outputs": [
    {
     "data": {
      "text/plain": [
       "<AxesSubplot:xlabel='ST slope', ylabel='count'>"
      ]
     },
     "execution_count": 30,
     "metadata": {},
     "output_type": "execute_result"
    },
    {
     "data": {
      "image/png": "[encoded data removed]",
      "text/plain": [
       "<Figure size 1152x432 with 1 Axes>"
      ]
     },
     "metadata": {
      "needs_background": "light"
     },
     "output_type": "display_data"
    }
   ],
   "source": [
    "# Looking at how ST slope is affect by heart disease\n",
    "plt.figure(figsize=(16, 6))\n",
    "sns.countplot(data=cf_db, x='ST slope', hue='target', palette='colorblind')"
   ]
  },
  {
   "cell_type": "code",
   "execution_count": 31,
   "id": "piano-washer",
   "metadata": {},
   "outputs": [
    {
     "name": "stdout",
     "output_type": "stream",
     "text": [
      "<-------------------------------------------------------------------------------------------------------------->\n",
      "The amount of ppl without HD in sector 1: 416\n",
      "The amount of ppl with HD in sector 1: 110\n",
      "Total count in sector 1: 526\n",
      "The probability of having heart disease in sector 1 is: 20.91%\n",
      "The probability of not having heart disease in sector 1 is: 79.09%\n",
      "<-------------------------------------------------------------------------------------------------------------->\n",
      "The amount of ppl without HD in sector 2: 123\n",
      "The amount of ppl with HD in sector 2: 459\n",
      "Total count in sector 2: 582\n",
      "The probability of having heart disease in sector 2 is: 78.87%\n",
      "The probability of not having heart disease in sector 2 is: 21.13%\n",
      "<-------------------------------------------------------------------------------------------------------------->\n",
      "The amount of ppl without HD in sector 3: 22\n",
      "The amount of ppl with HD in sector 3: 59\n",
      "Total count in sector 3: 81\n",
      "The probability of having heart disease in sector 3 is: 72.84%\n",
      "The probability of not having heart disease in sector 3 is: 27.16%\n",
      "<-------------------------------------------------------------------------------------------------------------->\n",
      "The amount of ppl without HD in sector 4: 0\n",
      "The amount of ppl with HD in sector 4: 0\n",
      "Total count in sector 4: 0\n",
      "The probability of having heart disease in sector 4 is: 0%\n",
      "The probability of not having heart disease in sector 4 is: 0%\n",
      "\n",
      "\n",
      "The sector with the heights probability of ppl without HD is sector 1 with a max    probability of 79.09\n",
      "The sector with the heights probability of ppl with HD is sector 2 with a max    probability of 78.87\n"
     ]
    }
   ],
   "source": [
    "probability(\"ST slope\", \"target\", cf_db)"
   ]
  },
  {
   "cell_type": "markdown",
   "id": "sudden-concentration",
   "metadata": {},
   "source": [
    "### Sex"
   ]
  },
  {
   "cell_type": "code",
   "execution_count": 32,
   "id": "random-stylus",
   "metadata": {
    "scrolled": false
   },
   "outputs": [
    {
     "data": {
      "text/plain": [
       "<AxesSubplot:xlabel='sex', ylabel='count'>"
      ]
     },
     "execution_count": 32,
     "metadata": {},
     "output_type": "execute_result"
    },
    {
     "data": {
      "image/png": "[encoded data removed]",
      "text/plain": [
       "<Figure size 1152x432 with 1 Axes>"
      ]
     },
     "metadata": {
      "needs_background": "light"
     },
     "output_type": "display_data"
    }
   ],
   "source": [
    "# Looking at how sex is affect by heart disease\n",
    "plt.figure(figsize=(16, 6))\n",
    "sns.countplot(data=cf_db, x='sex', hue='target', palette='colorblind')"
   ]
  },
  {
   "cell_type": "code",
   "execution_count": 33,
   "id": "yellow-class",
   "metadata": {},
   "outputs": [
    {
     "name": "stdout",
     "output_type": "stream",
     "text": [
      "<-------------------------------------------------------------------------------------------------------------->\n",
      "The amount of ppl without HD in sector 1: 350\n",
      "The amount of ppl with HD in sector 1: 559\n",
      "Total count in sector 1: 909\n",
      "The probability of having heart disease in sector 1 is: 61.5%\n",
      "The probability of not having heart disease in sector 1 is: 38.5%\n",
      "<-------------------------------------------------------------------------------------------------------------->\n",
      "The amount of ppl without HD in sector 2: 0\n",
      "The amount of ppl with HD in sector 2: 0\n",
      "Total count in sector 2: 0\n",
      "The probability of having heart disease in sector 2 is: 0%\n",
      "The probability of not having heart disease in sector 2 is: 0%\n",
      "\n",
      "\n",
      "The sector with the heights probability of ppl without HD is sector 1 with a max    probability of 38.5\n",
      "The sector with the heights probability of ppl with HD is sector 1 with a max    probability of 61.5\n"
     ]
    }
   ],
   "source": [
    "probability(\"sex\", \"target\", cf_db)"
   ]
  },
  {
   "cell_type": "markdown",
   "id": "motivated-blair",
   "metadata": {},
   "source": [
    "So, the data set is <b>76.4% male</b> so there is a bais towards males in this dataset, meaing that for males, they will get more accurate results than females largely due to the population bias of the datset"
   ]
  },
  {
   "cell_type": "markdown",
   "id": "mighty-conservation",
   "metadata": {},
   "source": [
    "## Dropping the vairables that I will not be using at ALL"
   ]
  },
  {
   "cell_type": "code",
   "execution_count": 34,
   "id": "military-headquarters",
   "metadata": {},
   "outputs": [
    {
     "data": {
      "text/html": [
       "<div>\n",
       "<style scoped>\n",
       "    .dataframe tbody tr th:only-of-type {\n",
       "        vertical-align: middle;\n",
       "    }\n",
       "\n",
       "    .dataframe tbody tr th {\n",
       "        vertical-align: top;\n",
       "    }\n",
       "\n",
       "    .dataframe thead th {\n",
       "        text-align: right;\n",
       "    }\n",
       "</style>\n",
       "<table border=\"1\" class=\"dataframe\">\n",
       "  <thead>\n",
       "    <tr style=\"text-align: right;\">\n",
       "      <th></th>\n",
       "      <th>age</th>\n",
       "      <th>sex</th>\n",
       "      <th>chest pain type</th>\n",
       "      <th>resting bp s</th>\n",
       "      <th>cholesterol</th>\n",
       "      <th>fasting blood sugar</th>\n",
       "      <th>resting ecg</th>\n",
       "      <th>max heart rate</th>\n",
       "      <th>exercise angina</th>\n",
       "      <th>oldpeak</th>\n",
       "      <th>ST slope</th>\n",
       "      <th>target</th>\n",
       "      <th>age_binary</th>\n",
       "    </tr>\n",
       "  </thead>\n",
       "  <tbody>\n",
       "    <tr>\n",
       "      <th>0</th>\n",
       "      <td>40</td>\n",
       "      <td>1</td>\n",
       "      <td>2</td>\n",
       "      <td>140</td>\n",
       "      <td>289</td>\n",
       "      <td>0</td>\n",
       "      <td>0</td>\n",
       "      <td>172</td>\n",
       "      <td>0</td>\n",
       "      <td>0.0</td>\n",
       "      <td>1</td>\n",
       "      <td>0</td>\n",
       "      <td>0</td>\n",
       "    </tr>\n",
       "    <tr>\n",
       "      <th>1</th>\n",
       "      <td>49</td>\n",
       "      <td>0</td>\n",
       "      <td>3</td>\n",
       "      <td>160</td>\n",
       "      <td>180</td>\n",
       "      <td>0</td>\n",
       "      <td>0</td>\n",
       "      <td>156</td>\n",
       "      <td>0</td>\n",
       "      <td>1.0</td>\n",
       "      <td>2</td>\n",
       "      <td>1</td>\n",
       "      <td>0</td>\n",
       "    </tr>\n",
       "    <tr>\n",
       "      <th>2</th>\n",
       "      <td>37</td>\n",
       "      <td>1</td>\n",
       "      <td>2</td>\n",
       "      <td>130</td>\n",
       "      <td>283</td>\n",
       "      <td>0</td>\n",
       "      <td>1</td>\n",
       "      <td>98</td>\n",
       "      <td>0</td>\n",
       "      <td>0.0</td>\n",
       "      <td>1</td>\n",
       "      <td>0</td>\n",
       "      <td>0</td>\n",
       "    </tr>\n",
       "    <tr>\n",
       "      <th>3</th>\n",
       "      <td>48</td>\n",
       "      <td>0</td>\n",
       "      <td>4</td>\n",
       "      <td>138</td>\n",
       "      <td>214</td>\n",
       "      <td>0</td>\n",
       "      <td>0</td>\n",
       "      <td>108</td>\n",
       "      <td>1</td>\n",
       "      <td>1.5</td>\n",
       "      <td>2</td>\n",
       "      <td>1</td>\n",
       "      <td>0</td>\n",
       "    </tr>\n",
       "    <tr>\n",
       "      <th>4</th>\n",
       "      <td>54</td>\n",
       "      <td>1</td>\n",
       "      <td>3</td>\n",
       "      <td>150</td>\n",
       "      <td>195</td>\n",
       "      <td>0</td>\n",
       "      <td>0</td>\n",
       "      <td>122</td>\n",
       "      <td>0</td>\n",
       "      <td>0.0</td>\n",
       "      <td>1</td>\n",
       "      <td>0</td>\n",
       "      <td>0</td>\n",
       "    </tr>\n",
       "  </tbody>\n",
       "</table>\n",
       "</div>"
      ],
      "text/plain": [
       "   age  sex  chest pain type  resting bp s  cholesterol  fasting blood sugar  \\\n",
       "0   40    1                2           140          289                    0   \n",
       "1   49    0                3           160          180                    0   \n",
       "2   37    1                2           130          283                    0   \n",
       "3   48    0                4           138          214                    0   \n",
       "4   54    1                3           150          195                    0   \n",
       "\n",
       "   resting ecg  max heart rate  exercise angina  oldpeak  ST slope  target  \\\n",
       "0            0             172                0      0.0         1       0   \n",
       "1            0             156                0      1.0         2       1   \n",
       "2            1              98                0      0.0         1       0   \n",
       "3            0             108                1      1.5         2       1   \n",
       "4            0             122                0      0.0         1       0   \n",
       "\n",
       "   age_binary  \n",
       "0           0  \n",
       "1           0  \n",
       "2           0  \n",
       "3           0  \n",
       "4           0  "
      ]
     },
     "execution_count": 34,
     "metadata": {},
     "output_type": "execute_result"
    }
   ],
   "source": [
    "db.head()"
   ]
  },
  {
   "cell_type": "code",
   "execution_count": 35,
   "id": "registered-florence",
   "metadata": {},
   "outputs": [
    {
     "data": {
      "text/html": [
       "<div>\n",
       "<style scoped>\n",
       "    .dataframe tbody tr th:only-of-type {\n",
       "        vertical-align: middle;\n",
       "    }\n",
       "\n",
       "    .dataframe tbody tr th {\n",
       "        vertical-align: top;\n",
       "    }\n",
       "\n",
       "    .dataframe thead th {\n",
       "        text-align: right;\n",
       "    }\n",
       "</style>\n",
       "<table border=\"1\" class=\"dataframe\">\n",
       "  <thead>\n",
       "    <tr style=\"text-align: right;\">\n",
       "      <th></th>\n",
       "      <th>age</th>\n",
       "      <th>sex</th>\n",
       "      <th>chest pain type</th>\n",
       "      <th>exercise angina</th>\n",
       "      <th>oldpeak</th>\n",
       "      <th>ST slope</th>\n",
       "      <th>target</th>\n",
       "    </tr>\n",
       "  </thead>\n",
       "  <tbody>\n",
       "    <tr>\n",
       "      <th>0</th>\n",
       "      <td>40</td>\n",
       "      <td>1</td>\n",
       "      <td>2</td>\n",
       "      <td>0</td>\n",
       "      <td>0.0</td>\n",
       "      <td>1</td>\n",
       "      <td>0</td>\n",
       "    </tr>\n",
       "    <tr>\n",
       "      <th>1</th>\n",
       "      <td>49</td>\n",
       "      <td>0</td>\n",
       "      <td>3</td>\n",
       "      <td>0</td>\n",
       "      <td>1.0</td>\n",
       "      <td>2</td>\n",
       "      <td>1</td>\n",
       "    </tr>\n",
       "    <tr>\n",
       "      <th>2</th>\n",
       "      <td>37</td>\n",
       "      <td>1</td>\n",
       "      <td>2</td>\n",
       "      <td>0</td>\n",
       "      <td>0.0</td>\n",
       "      <td>1</td>\n",
       "      <td>0</td>\n",
       "    </tr>\n",
       "    <tr>\n",
       "      <th>3</th>\n",
       "      <td>48</td>\n",
       "      <td>0</td>\n",
       "      <td>4</td>\n",
       "      <td>1</td>\n",
       "      <td>1.5</td>\n",
       "      <td>2</td>\n",
       "      <td>1</td>\n",
       "    </tr>\n",
       "    <tr>\n",
       "      <th>4</th>\n",
       "      <td>54</td>\n",
       "      <td>1</td>\n",
       "      <td>3</td>\n",
       "      <td>0</td>\n",
       "      <td>0.0</td>\n",
       "      <td>1</td>\n",
       "      <td>0</td>\n",
       "    </tr>\n",
       "  </tbody>\n",
       "</table>\n",
       "</div>"
      ],
      "text/plain": [
       "   age  sex  chest pain type  exercise angina  oldpeak  ST slope  target\n",
       "0   40    1                2                0      0.0         1       0\n",
       "1   49    0                3                0      1.0         2       1\n",
       "2   37    1                2                0      0.0         1       0\n",
       "3   48    0                4                1      1.5         2       1\n",
       "4   54    1                3                0      0.0         1       0"
      ]
     },
     "execution_count": 35,
     "metadata": {},
     "output_type": "execute_result"
    }
   ],
   "source": [
    "cf_db = cf_db.drop(['cholesterol', \n",
    "                    'resting ecg', \n",
    "                    'max heart rate', \n",
    "                    'age_binary', \n",
    "                    'fasting blood sugar', \n",
    "                    'resting bp s'\n",
    "                   ], axis=1)\n",
    "\n",
    "cf_db.head()"
   ]
  },
  {
   "cell_type": "code",
   "execution_count": 36,
   "id": "instructional-fishing",
   "metadata": {},
   "outputs": [
    {
     "data": {
      "text/plain": [
       "1    629\n",
       "0    561\n",
       "Name: target, dtype: int64"
      ]
     },
     "execution_count": 36,
     "metadata": {},
     "output_type": "execute_result"
    }
   ],
   "source": [
    "# Get a count of the number of patients with CVD and without\n",
    "cf_db['target'].value_counts()"
   ]
  },
  {
   "cell_type": "code",
   "execution_count": 37,
   "id": "herbal-circular",
   "metadata": {},
   "outputs": [
    {
     "data": {
      "text/plain": [
       "<AxesSubplot:xlabel='target', ylabel='count'>"
      ]
     },
     "execution_count": 37,
     "metadata": {},
     "output_type": "execute_result"
    },
    {
     "data": {
      "image/png": "[encoded data removed]",
      "text/plain": [
       "<Figure size 432x288 with 1 Axes>"
      ]
     },
     "metadata": {
      "needs_background": "light"
     },
     "output_type": "display_data"
    }
   ],
   "source": [
    "#Visualize the count\n",
    "sns.countplot(data=cf_db, x=db['target'])"
   ]
  },
  {
   "cell_type": "markdown",
   "id": "bridal-computer",
   "metadata": {},
   "source": [
    "## Further Explanation"
   ]
  },
  {
   "cell_type": "code",
   "execution_count": 38,
   "id": "immediate-brighton",
   "metadata": {},
   "outputs": [
    {
     "data": {
      "text/html": [
       "<div>\n",
       "<style scoped>\n",
       "    .dataframe tbody tr th:only-of-type {\n",
       "        vertical-align: middle;\n",
       "    }\n",
       "\n",
       "    .dataframe tbody tr th {\n",
       "        vertical-align: top;\n",
       "    }\n",
       "\n",
       "    .dataframe thead th {\n",
       "        text-align: right;\n",
       "    }\n",
       "</style>\n",
       "<table border=\"1\" class=\"dataframe\">\n",
       "  <thead>\n",
       "    <tr style=\"text-align: right;\">\n",
       "      <th></th>\n",
       "      <th>age</th>\n",
       "      <th>sex</th>\n",
       "      <th>chest pain type</th>\n",
       "      <th>exercise angina</th>\n",
       "      <th>oldpeak</th>\n",
       "      <th>ST slope</th>\n",
       "      <th>target</th>\n",
       "    </tr>\n",
       "  </thead>\n",
       "  <tbody>\n",
       "    <tr>\n",
       "      <th>age</th>\n",
       "      <td>1.000000</td>\n",
       "      <td>0.015096</td>\n",
       "      <td>0.149055</td>\n",
       "      <td>0.188095</td>\n",
       "      <td>0.245093</td>\n",
       "      <td>0.237749</td>\n",
       "      <td>0.262029</td>\n",
       "    </tr>\n",
       "    <tr>\n",
       "      <th>sex</th>\n",
       "      <td>0.015096</td>\n",
       "      <td>1.000000</td>\n",
       "      <td>0.138405</td>\n",
       "      <td>0.194380</td>\n",
       "      <td>0.096390</td>\n",
       "      <td>0.127913</td>\n",
       "      <td>0.311267</td>\n",
       "    </tr>\n",
       "    <tr>\n",
       "      <th>chest pain type</th>\n",
       "      <td>0.149055</td>\n",
       "      <td>0.138405</td>\n",
       "      <td>1.000000</td>\n",
       "      <td>0.403428</td>\n",
       "      <td>0.224106</td>\n",
       "      <td>0.276949</td>\n",
       "      <td>0.460127</td>\n",
       "    </tr>\n",
       "    <tr>\n",
       "      <th>exercise angina</th>\n",
       "      <td>0.188095</td>\n",
       "      <td>0.194380</td>\n",
       "      <td>0.403428</td>\n",
       "      <td>1.000000</td>\n",
       "      <td>0.370772</td>\n",
       "      <td>0.393408</td>\n",
       "      <td>0.481467</td>\n",
       "    </tr>\n",
       "    <tr>\n",
       "      <th>oldpeak</th>\n",
       "      <td>0.245093</td>\n",
       "      <td>0.096390</td>\n",
       "      <td>0.224106</td>\n",
       "      <td>0.370772</td>\n",
       "      <td>1.000000</td>\n",
       "      <td>0.524639</td>\n",
       "      <td>0.398385</td>\n",
       "    </tr>\n",
       "    <tr>\n",
       "      <th>ST slope</th>\n",
       "      <td>0.237749</td>\n",
       "      <td>0.127913</td>\n",
       "      <td>0.276949</td>\n",
       "      <td>0.393408</td>\n",
       "      <td>0.524639</td>\n",
       "      <td>1.000000</td>\n",
       "      <td>0.505608</td>\n",
       "    </tr>\n",
       "    <tr>\n",
       "      <th>target</th>\n",
       "      <td>0.262029</td>\n",
       "      <td>0.311267</td>\n",
       "      <td>0.460127</td>\n",
       "      <td>0.481467</td>\n",
       "      <td>0.398385</td>\n",
       "      <td>0.505608</td>\n",
       "      <td>1.000000</td>\n",
       "    </tr>\n",
       "  </tbody>\n",
       "</table>\n",
       "</div>"
      ],
      "text/plain": [
       "                      age       sex  chest pain type  exercise angina  \\\n",
       "age              1.000000  0.015096         0.149055         0.188095   \n",
       "sex              0.015096  1.000000         0.138405         0.194380   \n",
       "chest pain type  0.149055  0.138405         1.000000         0.403428   \n",
       "exercise angina  0.188095  0.194380         0.403428         1.000000   \n",
       "oldpeak          0.245093  0.096390         0.224106         0.370772   \n",
       "ST slope         0.237749  0.127913         0.276949         0.393408   \n",
       "target           0.262029  0.311267         0.460127         0.481467   \n",
       "\n",
       "                  oldpeak  ST slope    target  \n",
       "age              0.245093  0.237749  0.262029  \n",
       "sex              0.096390  0.127913  0.311267  \n",
       "chest pain type  0.224106  0.276949  0.460127  \n",
       "exercise angina  0.370772  0.393408  0.481467  \n",
       "oldpeak          1.000000  0.524639  0.398385  \n",
       "ST slope         0.524639  1.000000  0.505608  \n",
       "target           0.398385  0.505608  1.000000  "
      ]
     },
     "execution_count": 38,
     "metadata": {},
     "output_type": "execute_result"
    }
   ],
   "source": [
    "# Get the correlation of the columns\n",
    "cf_db.corr()"
   ]
  },
  {
   "cell_type": "code",
   "execution_count": 39,
   "id": "surprised-outdoors",
   "metadata": {},
   "outputs": [
    {
     "data": {
      "text/plain": [
       "<AxesSubplot:>"
      ]
     },
     "execution_count": 39,
     "metadata": {},
     "output_type": "execute_result"
    },
    {
     "data": {
      "image/png": "[encoded data removed]",
      "text/plain": [
       "<Figure size 1152x432 with 2 Axes>"
      ]
     },
     "metadata": {
      "needs_background": "light"
     },
     "output_type": "display_data"
    }
   ],
   "source": [
    "# Visualize Correlation\n",
    "corelation = cf_db.corr()\n",
    "plt.figure(figsize=(16, 6))\n",
    "sns.heatmap(corelation, xticklabels=corelation.columns, yticklabels=corelation.columns, annot=True)"
   ]
  },
  {
   "cell_type": "markdown",
   "id": "joined-machine",
   "metadata": {},
   "source": [
    "# Splitting the Dataset and Preprocessing"
   ]
  },
  {
   "cell_type": "code",
   "execution_count": 40,
   "id": "derived-child",
   "metadata": {},
   "outputs": [],
   "source": [
    "# Split the data into feature data and target data\n",
    "X = cf_db.iloc[:, :-1].values\n",
    "Y = cf_db.iloc[:, -1].values"
   ]
  },
  {
   "cell_type": "code",
   "execution_count": 41,
   "id": "lucky-diversity",
   "metadata": {},
   "outputs": [],
   "source": [
    "# Split the data again, into 95% training data set and 5% testing data set\n",
    "X_train, X_test, Y_train, Y_test = train_test_split(X,Y, test_size=0.05, random_state= 1)"
   ]
  },
  {
   "cell_type": "code",
   "execution_count": 42,
   "id": "negative-victorian",
   "metadata": {},
   "outputs": [
    {
     "data": {
      "text/plain": [
       "array([[40. ,  1. ,  2. ,  0. ,  0. ,  1. ],\n",
       "       [49. ,  0. ,  3. ,  0. ,  1. ,  2. ],\n",
       "       [37. ,  1. ,  2. ,  0. ,  0. ,  1. ],\n",
       "       ...,\n",
       "       [57. ,  1. ,  4. ,  1. ,  1.2,  2. ],\n",
       "       [57. ,  0. ,  2. ,  0. ,  0. ,  2. ],\n",
       "       [38. ,  1. ,  3. ,  0. ,  0. ,  1. ]])"
      ]
     },
     "execution_count": 42,
     "metadata": {},
     "output_type": "execute_result"
    }
   ],
   "source": [
    "X"
   ]
  },
  {
   "cell_type": "markdown",
   "id": "twelve-hydrogen",
   "metadata": {},
   "source": [
    "# Building KNN Model with Pipeline"
   ]
  },
  {
   "cell_type": "code",
   "execution_count": 45,
   "id": "unavailable-tuesday",
   "metadata": {},
   "outputs": [],
   "source": [
    "neighbors = np.arange(1, 100)\n",
    "train_accuracy = np.empty(len(neighbors))\n",
    "test_accuracy = np.empty(len(neighbors))"
   ]
  },
  {
   "cell_type": "code",
   "execution_count": 46,
   "id": "sustainable-graduate",
   "metadata": {},
   "outputs": [],
   "source": [
    "def KNNGraphigModelAccuracy(neighbors, train_accuracy, test_accuracy, standard = False):\n",
    "    highest_test_acc = 0\n",
    "    best_k = 0\n",
    "    # Loop over K values\n",
    "    for i, k in enumerate(neighbors):\n",
    "        \n",
    "        if standard:\n",
    "            model = Pipeline([\n",
    "                  ('power',PowerTransformer()),\n",
    "                  ('model',KNeighborsClassifier(n_neighbors=k))\n",
    "            ])\n",
    "        else:\n",
    "            model = Pipeline([\n",
    "                          ('model',KNeighborsClassifier(n_neighbors=k))\n",
    "            ])\n",
    "            \n",
    "        model.fit(X_train, Y_train)\n",
    "\n",
    "        # Compute training and test data accuracy\n",
    "        result_test = roc_auc_score(Y_test,model.predict_proba(X_test)[:,1])\n",
    "        result_train = roc_auc_score(Y_train,model.predict_proba(X_train)[:,1])\n",
    "\n",
    "        train = (result_train*100)\n",
    "        train_accuracy[i] = train\n",
    "        test = (result_test*100)\n",
    "        test_accuracy[i] = test\n",
    "        if test > highest_test_acc:\n",
    "            highest_test_acc = test\n",
    "            best_k = k\n",
    "\n",
    "    # Generate plot\n",
    "    plt.figure(figsize=(16, 6))\n",
    "    plt.plot(neighbors, test_accuracy, label = 'Testing dataset Accuracy')\n",
    "    plt.plot(neighbors, train_accuracy, label = 'Training dataset Accuracy')\n",
    "\n",
    "    plt.legend()\n",
    "    plt.xlabel('n_neighbors')\n",
    "    plt.ylabel('Accuracy')\n",
    "    plt.show()\n",
    "    \n",
    "    print(f\"The highest testing Accuracy was {highest_test_acc}, with a K-value of {best_k}\")\n"
   ]
  },
  {
   "cell_type": "markdown",
   "id": "intense-australia",
   "metadata": {},
   "source": [
    "## Without Scaling or Preprocessing"
   ]
  },
  {
   "cell_type": "code",
   "execution_count": 47,
   "id": "resistant-singing",
   "metadata": {},
   "outputs": [
    {
     "data": {
      "image/png": "[encoded data removed]",
      "text/plain": [
       "<Figure size 1152x432 with 1 Axes>"
      ]
     },
     "metadata": {
      "needs_background": "light"
     },
     "output_type": "display_data"
    },
    {
     "name": "stdout",
     "output_type": "stream",
     "text": [
      "The highest testing Accuracy was 89.56473214285714, with a K-value of 18\n"
     ]
    }
   ],
   "source": [
    "KNNGraphigModelAccuracy(neighbors, train_accuracy, test_accuracy, standard = False)"
   ]
  },
  {
   "cell_type": "markdown",
   "id": "velvet-discrimination",
   "metadata": {},
   "source": [
    "## With Scaling And Preprocessing"
   ]
  },
  {
   "cell_type": "code",
   "execution_count": 48,
   "id": "substantial-burst",
   "metadata": {},
   "outputs": [
    {
     "data": {
      "image/png": "[encoded data removed]",
      "text/plain": [
       "<Figure size 1152x432 with 1 Axes>"
      ]
     },
     "metadata": {
      "needs_background": "light"
     },
     "output_type": "display_data"
    },
    {
     "name": "stdout",
     "output_type": "stream",
     "text": [
      "The highest testing Accuracy was 96.484375, with a K-value of 5\n"
     ]
    }
   ],
   "source": [
    "KNNGraphigModelAccuracy(neighbors, train_accuracy, test_accuracy, standard = True)"
   ]
  },
  {
   "cell_type": "markdown",
   "id": "consistent-median",
   "metadata": {},
   "source": [
    "With the normalization and standardization Techniques implemented, the best accuracy achieved was roughly 96%.\n",
    "However, maybe the model can be improved with some hyperparameter tuning"
   ]
  },
  {
   "cell_type": "markdown",
   "id": "neutral-leeds",
   "metadata": {},
   "source": [
    "# Hyperparameter Tuning"
   ]
  },
  {
   "cell_type": "code",
   "execution_count": 49,
   "id": "daily-computer",
   "metadata": {},
   "outputs": [
    {
     "name": "stdout",
     "output_type": "stream",
     "text": [
      "Best leaf_size: 32\n",
      "Best p: 2\n",
      "Best n_neighbors: 1\n"
     ]
    }
   ],
   "source": [
    "###########################################################################################################\n",
    "# The Code for this section does not belog to me.                                                         #\n",
    "# The credit goes to the creator, Adipta Martulandi they can be found at the link below:                  #\n",
    "# https://medium.datadriveninvestor.com/k-nearest-neighbors-in-python-hyperparameters-tuning-716734bc557f # \n",
    "###########################################################################################################\n",
    "\n",
    "#List Hyperparameters that we want to tune.\n",
    "leaf_size = list(range(1,50))\n",
    "n_neighbors = list(range(1,30))\n",
    "p=[1,2]\n",
    "\n",
    "#Convert to dictionary\n",
    "hyperparameters = dict(leaf_size=leaf_size, n_neighbors=n_neighbors, p=p)\n",
    "\n",
    "#Create new KNN object\n",
    "model_2 = KNeighborsClassifier()\n",
    "\n",
    "#Use GridSearch\n",
    "clf = GridSearchCV(model_2, hyperparameters, cv=10)\n",
    "\n",
    "#Fit the model\n",
    "best_model = clf.fit(X_train, Y_train)\n",
    "\n",
    "#Print The value of best Hyperparameters\n",
    "print('Best leaf_size:', best_model.best_estimator_.get_params()['leaf_size'])\n",
    "print('Best p:', best_model.best_estimator_.get_params()['p'])\n",
    "print('Best n_neighbors:', best_model.best_estimator_.get_params()['n_neighbors'])\n"
   ]
  },
  {
   "cell_type": "markdown",
   "id": "adult-camera",
   "metadata": {},
   "source": [
    "so based on the results of the hyperparamet testing, the best distance forumals is the Manhattan Distace (P=2) and the best value for K is 1 with a leaf_size of 32"
   ]
  },
  {
   "cell_type": "markdown",
   "id": "burning-pepper",
   "metadata": {},
   "source": [
    "## Building New Model Based on Hyperparameter tuning"
   ]
  },
  {
   "cell_type": "code",
   "execution_count": 50,
   "id": "respiratory-values",
   "metadata": {},
   "outputs": [
    {
     "data": {
      "text/plain": [
       "0.8526785714285715"
      ]
     },
     "execution_count": 50,
     "metadata": {},
     "output_type": "execute_result"
    }
   ],
   "source": [
    "# Create new KNN object\n",
    "model_3 = KNeighborsClassifier(n_neighbors=1, leaf_size=32, p= 2)\n",
    "\n",
    "# Fit the model\n",
    "model_3.fit(X_train, Y_train)\n",
    "\n",
    "# Getting the Accuracy\n",
    "result_test = roc_auc_score(Y_test,model_3.predict_proba(X_test)[:,1])\n",
    "\n",
    "result_test"
   ]
  },
  {
   "cell_type": "markdown",
   "id": "caroline-morris",
   "metadata": {},
   "source": [
    "Since the model perforemed worse with hyperparamet tuing, this will not be included in the final mode. The final model will only have the added benfit of Standardization and Normalization."
   ]
  },
  {
   "cell_type": "markdown",
   "id": "urban-macedonia",
   "metadata": {},
   "source": [
    "# Exporting Modified MODEL"
   ]
  },
  {
   "cell_type": "markdown",
   "id": "biological-right",
   "metadata": {},
   "source": [
    "### Setting up the Model with optimal K-value"
   ]
  },
  {
   "cell_type": "code",
   "execution_count": 51,
   "id": "historical-organizer",
   "metadata": {},
   "outputs": [
    {
     "data": {
      "text/plain": [
       "Pipeline(steps=[('power', PowerTransformer()), ('scaler', StandardScaler()),\n",
       "                ('model', KNeighborsClassifier())])"
      ]
     },
     "execution_count": 51,
     "metadata": {},
     "output_type": "execute_result"
    }
   ],
   "source": [
    "final_model = Pipeline([\n",
    "    ('power',PowerTransformer()),\n",
    "    ('scaler',StandardScaler()),\n",
    "    ('model',KNeighborsClassifier(n_neighbors=5))\n",
    "])\n",
    "final_model.fit(X_train, Y_train)\n"
   ]
  },
  {
   "cell_type": "code",
   "execution_count": 52,
   "id": "accredited-pioneer",
   "metadata": {},
   "outputs": [],
   "source": [
    "# Creating a pickle file using serialization\n",
    "pickle_out = open(\"HeartDiseaseClassifier.pkl\", \"wb\")\n",
    "\n",
    "# Writing the pickle file and saving it\n",
    "pickle.dump(final_model, pickle_out)\n",
    "\n",
    "# Closing the pickle file\n",
    "pickle_out.close()"
   ]
  },
  {
   "cell_type": "code",
   "execution_count": 53,
   "id": "round-passion",
   "metadata": {},
   "outputs": [],
   "source": [
    "# Opening the pickle file\n",
    "pickle_in = open(\"HeartDiseaseClassifier.pkl\", \"rb\")\n",
    "# Saving the file as a variable for use\n",
    "classifier = pickle.load(pickle_in)"
   ]
  },
  {
   "cell_type": "markdown",
   "id": "brutal-andrews",
   "metadata": {},
   "source": [
    "# THE FEATURES BUILT AND EXPORTED WITH THE MODEL"
   ]
  },
  {
   "cell_type": "code",
   "execution_count": 56,
   "id": "informal-gibraltar",
   "metadata": {},
   "outputs": [
    {
     "data": {
      "text/plain": [
       "Index(['age', 'sex', 'chest pain type', 'exercise angina', 'oldpeak',\n",
       "       'ST slope', 'target'],\n",
       "      dtype='object')"
      ]
     },
     "execution_count": 56,
     "metadata": {},
     "output_type": "execute_result"
    }
   ],
   "source": [
    "cf_db.columns"
   ]
  }
 ],
 "metadata": {
  "kernelspec": {
   "display_name": "Python 3",
   "language": "python",
   "name": "python3"
  },
  "language_info": {
   "codemirror_mode": {
    "name": "ipython",
    "version": 3
   },
   "file_extension": ".py",
   "mimetype": "text/x-python",
   "name": "python",
   "nbconvert_exporter": "python",
   "pygments_lexer": "ipython3",
   "version": "3.8.1"
  }
 },
 "nbformat": 4,
 "nbformat_minor": 5
}
